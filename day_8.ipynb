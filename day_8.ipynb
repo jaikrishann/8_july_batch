{
 "cells": [
  {
   "cell_type": "code",
   "execution_count": 1,
   "metadata": {},
   "outputs": [
    {
     "name": "stdout",
     "output_type": "stream",
     "text": [
      "['a', 'c', 'p', 'g']\n"
     ]
    }
   ],
   "source": [
    "lst = [\"apple\",'cherry',\"python\",\"gun\"]\n",
    "output = [i[0] for i in lst ]\n",
    "print(output)\n",
    "\n"
   ]
  },
  {
   "cell_type": "code",
   "execution_count": 5,
   "metadata": {},
   "outputs": [
    {
     "name": "stdout",
     "output_type": "stream",
     "text": [
      "['Myname', 'Mykaran', 'isname', 'iskaran']\n"
     ]
    }
   ],
   "source": [
    "list1 = [\"My\",\"is\"]                     ##[\"my name\",\"is karan\"]\n",
    "list2 = [\"name\",\"karan\"]\n",
    "# list3 = [i+j for i,j in zip(list1,list2)]\n",
    "list3 = [i+j for i in list1 for j in list2]\n",
    "print(list3)\n"
   ]
  },
  {
   "cell_type": "code",
   "execution_count": 6,
   "metadata": {},
   "outputs": [
    {
     "name": "stdout",
     "output_type": "stream",
     "text": [
      "10 400\n",
      "20 300\n",
      "30 200\n",
      "40 100\n"
     ]
    }
   ],
   "source": [
    "list1 = [10,20,30,40]                                 #[10 400]\n",
    "list2 = [100,200,300,400]                               #20 300\n",
    "  \n",
    "\n",
    "for i , j in zip(list1,list2[::-1]) :\n",
    "    print(i,j)             \n",
    "                          \n"
   ]
  },
  {
   "cell_type": "code",
   "execution_count": 13,
   "metadata": {},
   "outputs": [
    {
     "data": {
      "text/plain": [
       "[10, 20, [300, 400, [500], 500], 30, 40]"
      ]
     },
     "execution_count": 13,
     "metadata": {},
     "output_type": "execute_result"
    }
   ],
   "source": [
    "list1 = [10, 20 ,[300,400,[500,600],500],30,40]\n",
    "\n",
    "list1[2][2].pop()\n",
    "list1"
   ]
  },
  {
   "cell_type": "code",
   "execution_count": null,
   "metadata": {},
   "outputs": [],
   "source": []
  }
 ],
 "metadata": {
  "kernelspec": {
   "display_name": "Python 3",
   "language": "python",
   "name": "python3"
  },
  "language_info": {
   "codemirror_mode": {
    "name": "ipython",
    "version": 3
   },
   "file_extension": ".py",
   "mimetype": "text/x-python",
   "name": "python",
   "nbconvert_exporter": "python",
   "pygments_lexer": "ipython3",
   "version": "3.12.4"
  }
 },
 "nbformat": 4,
 "nbformat_minor": 2
}
