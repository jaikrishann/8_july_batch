{
 "cells": [
  {
   "cell_type": "markdown",
   "metadata": {},
   "source": [
    "Python Keywords"
   ]
  },
  {
   "cell_type": "code",
   "execution_count": null,
   "metadata": {},
   "outputs": [],
   "source": []
  },
  {
   "cell_type": "markdown",
   "metadata": {},
   "source": []
  },
  {
   "cell_type": "markdown",
   "metadata": {},
   "source": [
    "Python keywords are unique words reserved with defined meanings and functions that we can only apply for those functions. You'll never need to import any keyword into your program because they're permanently present."
   ]
  },
  {
   "cell_type": "markdown",
   "metadata": {},
   "source": [
    "False\tawait\telse\timport\tpass\n",
    "\n",
    "None\tbreak\texcept\tin\traise\n",
    "\n",
    "True\tclass\tfinally\tis\treturn\n",
    "\n",
    "and\tcontinue\tfor\tlambda\ttry\n",
    "\n",
    "as\tdef\tfrom\tnonlocal\twhile\n",
    "\n",
    "assert\tdel\tglobal\tnot\twith\n",
    "\n",
    "async\telif\tif\tor\tyield"
   ]
  },
  {
   "cell_type": "markdown",
   "metadata": {},
   "source": [
    "# python comments"
   ]
  },
  {
   "cell_type": "code",
   "execution_count": 5,
   "metadata": {},
   "outputs": [],
   "source": [
    "# ipynb --> jupyter notebook "
   ]
  },
  {
   "cell_type": "markdown",
   "metadata": {},
   "source": [
    "# DICT"
   ]
  },
  {
   "cell_type": "code",
   "execution_count": null,
   "metadata": {},
   "outputs": [],
   "source": [
    "print(\"hello world\")\n",
    "# run the block --> shift + enter, Ctrl + enter\n",
    "#"
   ]
  },
  {
   "cell_type": "code",
   "execution_count": null,
   "metadata": {},
   "outputs": [],
   "source": [
    "#dict --> values stored in key:value, ordered, changeable and do not allow duplicate values.\n",
    "\n"
   ]
  },
  {
   "cell_type": "code",
   "execution_count": 10,
   "metadata": {},
   "outputs": [
    {
     "name": "stdout",
     "output_type": "stream",
     "text": [
      "{'name': 'Mohan', 'class': 4, 'year': 2021, 'colour': 'red'}\n",
      "<class 'dict'>\n",
      "4\n"
     ]
    }
   ],
   "source": [
    "dt= {\n",
    "    \"name\":\"Mohan\",\n",
    "    \"class\": 4,\n",
    "    \"year\": 2020,\n",
    "    \"colour\":\"red\",\n",
    "    \"year\" : 2021\n",
    "}\n",
    "\n",
    "print(dt)\n",
    "print(type(dt))\n",
    "print(len(dt))"
   ]
  },
  {
   "cell_type": "code",
   "execution_count": 14,
   "metadata": {},
   "outputs": [
    {
     "name": "stdout",
     "output_type": "stream",
     "text": [
      "{'name': ('Mohan', 'Ram', 12, 'Mohan'), 'class': {1, 2, 3}, 'year': 2021, 'colour': 'red'}\n"
     ]
    }
   ],
   "source": [
    "## how to store multiple values \n",
    "dt= {\n",
    "    \"name\":(\"Mohan\",\"Ram\",12,\"Mohan\"),\n",
    "    \"class\": {1,2,3},\n",
    "    \"year\": 2020,\n",
    "    \"colour\":\"red\",\n",
    "    \"year\" : 2021\n",
    "}\n",
    "print(dt)\n"
   ]
  },
  {
   "cell_type": "code",
   "execution_count": 37,
   "metadata": {},
   "outputs": [
    {
     "name": "stdout",
     "output_type": "stream",
     "text": [
      "{'name': ['john', 'RAM'], 'classs': 2, 'age': 12}\n",
      "<class 'dict'>\n"
     ]
    }
   ],
   "source": [
    "## dict constructor\n",
    "dt1 = dict(name = [\"john\",\"RAM\"],classs= 2,age= 12)\n",
    "print(dt1)\n",
    "print(type(dt1))"
   ]
  },
  {
   "cell_type": "code",
   "execution_count": 23,
   "metadata": {},
   "outputs": [
    {
     "name": "stdout",
     "output_type": "stream",
     "text": [
      "dict_items([('name', ('Mohan', 'Ram', 12, 'Mohan')), ('class', {1, 2, 3}), ('year', 2020), ('colour', 'red')])\n"
     ]
    }
   ],
   "source": [
    "## accessing items\n",
    "dt= {\n",
    "    \"name\":(\"Mohan\",\"Ram\",12,\"Mohan\"),\n",
    "    \"class\": {1,2,3},\n",
    "    \"year\": 2020,\n",
    "    \"colour\":\"red\"\n",
    "    \n",
    "}\n",
    "\n",
    "# x=dt[\"name\"]\n",
    "# print(x)\n",
    "\n",
    "# x = dt.get('name')    \n",
    "# print(x)\n",
    "\n",
    "# x = dt.values()\n",
    "# print(x)\n",
    "\n",
    "# x = dt.keys()\n",
    "# print(x)\n",
    "\n",
    "# x = dt.items()\n",
    "# print(x)\n"
   ]
  },
  {
   "cell_type": "code",
   "execution_count": 21,
   "metadata": {},
   "outputs": [
    {
     "name": "stdout",
     "output_type": "stream",
     "text": [
      "{'name': ('Mohan', 'Ram', 12, 'Mohan'), 'class': {1, 2, 3}, 'year': 2020, 'colour': 'white'}\n"
     ]
    }
   ],
   "source": [
    "dt= {\n",
    "    \"name\":(\"Mohan\",\"Ram\",12,\"Mohan\"),\n",
    "    \"class\": {1,2,3},\n",
    "    \"year\": 2020,\n",
    "    \"colour\":\"red\"\n",
    "    \n",
    "}\n",
    "\n",
    "x = dt[\"colour\"]=\"white\"\n",
    "print(dt)\n",
    "\n"
   ]
  },
  {
   "cell_type": "code",
   "execution_count": 25,
   "metadata": {},
   "outputs": [
    {
     "name": "stdout",
     "output_type": "stream",
     "text": [
      "{'name': ('Mohan', 'Ram', 12, 'Mohan'), 'class': {1, 2, 3}, 'year': 2024, 'colour': 'white'}\n"
     ]
    }
   ],
   "source": [
    "dt= {\n",
    "    \"name\":(\"Mohan\",\"Ram\",12,\"Mohan\"),\n",
    "    \"class\": {1,2,3},\n",
    "    \"year\": 2020,\n",
    "    \"colour\":\"red\"\n",
    "    \n",
    "}\n",
    "x = dt.update({\"colour\":\"white\",\"year\":2024})\n",
    "print(dt)"
   ]
  },
  {
   "cell_type": "code",
   "execution_count": 36,
   "metadata": {},
   "outputs": [
    {
     "name": "stdout",
     "output_type": "stream",
     "text": [
      "{}\n"
     ]
    }
   ],
   "source": [
    "dt= {\n",
    "    \"name\":(\"Mohan\",\"Ram\",12,\"Mohan\"),\n",
    "    \"class\": {1,2,3},\n",
    "    \"year\": 2020,\n",
    "    \"colour\":\"red\"\n",
    "    \n",
    "}\n",
    "# x = dt.pop(\"year\")\n",
    "# print(dt)\n",
    "\n",
    "# x = dt.popitem()\n",
    "# print(dt)\n",
    "\n",
    "# del dt\n",
    "# print(dt)\n",
    "\n",
    "# del dt[\"name\"]\n",
    "# print(dt)\n",
    "\n",
    "# x = dt.clear()\n",
    "# print(dt)\n",
    "\n"
   ]
  },
  {
   "cell_type": "code",
   "execution_count": null,
   "metadata": {},
   "outputs": [],
   "source": []
  }
 ],
 "metadata": {
  "kernelspec": {
   "display_name": "Python 3",
   "language": "python",
   "name": "python3"
  },
  "language_info": {
   "codemirror_mode": {
    "name": "ipython",
    "version": 3
   },
   "file_extension": ".py",
   "mimetype": "text/x-python",
   "name": "python",
   "nbconvert_exporter": "python",
   "pygments_lexer": "ipython3",
   "version": "3.12.4"
  }
 },
 "nbformat": 4,
 "nbformat_minor": 2
}
