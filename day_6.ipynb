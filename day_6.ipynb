{
 "cells": [
  {
   "cell_type": "code",
   "execution_count": 2,
   "metadata": {},
   "outputs": [],
   "source": [
    "a = 20 \n",
    "b = 30 \n",
    "if a<b :\n",
    "    pass"
   ]
  },
  {
   "cell_type": "code",
   "execution_count": 5,
   "metadata": {},
   "outputs": [
    {
     "name": "stdout",
     "output_type": "stream",
     "text": [
      "11\n"
     ]
    }
   ],
   "source": [
    "a = int(input(\"enter number\"))\n",
    "print(a)"
   ]
  },
  {
   "cell_type": "code",
   "execution_count": 9,
   "metadata": {},
   "outputs": [
    {
     "name": "stdout",
     "output_type": "stream",
     "text": [
      "<class 'float'>\n"
     ]
    }
   ],
   "source": [
    "## type casting\n",
    "a = float(2)\n",
    "print(type(a))"
   ]
  },
  {
   "cell_type": "code",
   "execution_count": 18,
   "metadata": {},
   "outputs": [],
   "source": [
    "##prime number check \n",
    "# x = int(input(\"enter number\"))\n",
    "# if x%x==0 :\n",
    "#     print(\"number is prime\")\n",
    "# else :\n",
    "#     print(\"number not prime\")"
   ]
  },
  {
   "cell_type": "markdown",
   "metadata": {},
   "source": [
    "# LOOP\n"
   ]
  },
  {
   "cell_type": "markdown",
   "metadata": {},
   "source": [
    "itearting over a seq \n",
    "\n",
    "loops are of 2 types:\n",
    "\n",
    "1 for\n",
    "\n",
    "2 while"
   ]
  },
  {
   "cell_type": "code",
   "execution_count": 25,
   "metadata": {},
   "outputs": [
    {
     "name": "stdout",
     "output_type": "stream",
     "text": [
      "apple\n",
      "banana\n",
      "cherry\n",
      "melon\n"
     ]
    }
   ],
   "source": [
    "fruits = [\"apple\",\"banana\",\"cherry\",\"melon\"]\n",
    "for x in fruits:  \n",
    "    print(x)"
   ]
  },
  {
   "cell_type": "code",
   "execution_count": 26,
   "metadata": {},
   "outputs": [
    {
     "name": "stdout",
     "output_type": "stream",
     "text": [
      "U\n",
      "P\n",
      "F\n",
      "L\n",
      "A\n",
      "I\n",
      "R\n",
      "S\n"
     ]
    }
   ],
   "source": [
    "for n in \"UPFLAIRS\":\n",
    "    print(n)\n"
   ]
  },
  {
   "cell_type": "code",
   "execution_count": null,
   "metadata": {},
   "outputs": [],
   "source": [
    "## break\n",
    "## continue\n"
   ]
  },
  {
   "cell_type": "code",
   "execution_count": 31,
   "metadata": {},
   "outputs": [
    {
     "name": "stdout",
     "output_type": "stream",
     "text": [
      "apple\n"
     ]
    }
   ],
   "source": [
    "# break statement\n",
    "fruits = [\"apple\",\"banana\",\"cherry\",\"melon\"]\n",
    "for item in fruits:\n",
    "    print(item)\n",
    "    if item == \"banana\":\n",
    "        break\n",
    "    # print(item)\n",
    "    \n"
   ]
  },
  {
   "cell_type": "code",
   "execution_count": 33,
   "metadata": {},
   "outputs": [
    {
     "name": "stdout",
     "output_type": "stream",
     "text": [
      "apple\n",
      "cherry\n",
      "melon\n"
     ]
    }
   ],
   "source": [
    "fruits = [\"apple\",\"banana\",\"cherry\",\"melon\"]\n",
    "for item in fruits:\n",
    "    \n",
    "    if item == \"banana\":\n",
    "        continue\n",
    "    print(item)\n",
    "    "
   ]
  },
  {
   "cell_type": "code",
   "execution_count": 37,
   "metadata": {},
   "outputs": [
    {
     "name": "stdout",
     "output_type": "stream",
     "text": [
      "2\n",
      "3\n",
      "4\n",
      "5\n",
      "6\n"
     ]
    }
   ],
   "source": [
    "for x in range(2,7):\n",
    "    print(x)"
   ]
  },
  {
   "cell_type": "code",
   "execution_count": 39,
   "metadata": {},
   "outputs": [
    {
     "name": "stdout",
     "output_type": "stream",
     "text": [
      "0\n",
      "1\n",
      "2\n",
      "3\n",
      "4\n",
      "5\n",
      "finish\n"
     ]
    }
   ],
   "source": [
    "## esle \n",
    "for x in range(6):\n",
    "    print(x)\n",
    "else:\n",
    "    print(\"finish\")"
   ]
  },
  {
   "cell_type": "code",
   "execution_count": 40,
   "metadata": {},
   "outputs": [
    {
     "name": "stdout",
     "output_type": "stream",
     "text": [
      "0\n",
      "1\n",
      "2\n"
     ]
    }
   ],
   "source": [
    "for x in range(6):\n",
    "    if x==3: break\n",
    "    print(x)\n",
    "else:\n",
    "    print(\"finish\")\n"
   ]
  },
  {
   "cell_type": "code",
   "execution_count": 45,
   "metadata": {},
   "outputs": [
    {
     "name": "stdout",
     "output_type": "stream",
     "text": [
      "red\n",
      "apple\n",
      "black\n",
      "apple\n",
      "green\n",
      "apple\n",
      "red\n",
      "banana\n",
      "black\n",
      "banana\n",
      "green\n",
      "banana\n",
      "red\n",
      "cherry\n",
      "black\n",
      "cherry\n",
      "green\n",
      "cherry\n"
     ]
    }
   ],
   "source": [
    "##nested loop\n",
    "list1 = [\"apple\",\"banana\",\"cherry\"]\n",
    "list2 = [\"red\",\"black\",\"green\"]\n",
    "\n",
    "for x in list1:\n",
    "    for y in list2:\n",
    "        print(y)\n",
    "        print(x)"
   ]
  },
  {
   "cell_type": "code",
   "execution_count": 47,
   "metadata": {},
   "outputs": [
    {
     "name": "stdout",
     "output_type": "stream",
     "text": [
      "hi\n",
      "hi\n",
      "hi\n",
      "hi\n",
      "hi\n",
      "hi\n",
      "hi\n",
      "hi\n",
      "hi\n",
      "hi\n",
      "hi\n",
      "hi\n",
      "hi\n",
      "hi\n",
      "hi\n",
      "hi\n",
      "hi\n",
      "hi\n",
      "hi\n",
      "hi\n",
      "hi\n",
      "hi\n",
      "hi\n",
      "hi\n"
     ]
    }
   ],
   "source": [
    "name = \"upflairs pvt  ltd jaipur\"\n",
    "for char in name:\n",
    "    if char ==\"8\":\n",
    "        print(\"numerical\")\n",
    "    else:\n",
    "        print(\"hi\")"
   ]
  },
  {
   "cell_type": "code",
   "execution_count": 50,
   "metadata": {},
   "outputs": [
    {
     "name": "stdout",
     "output_type": "stream",
     "text": [
      "50 pass\n",
      "60 pass\n",
      "34 pass\n",
      "67 pass\n",
      "10 fail\n"
     ]
    }
   ],
   "source": [
    "per = [50 ,60,34,67,10]\n",
    "for item in per:\n",
    "    if item<=30:\n",
    "        print(item,\"fail\")\n",
    "    else:\n",
    "        print(item,\"pass\")\n",
    "    "
   ]
  },
  {
   "cell_type": "code",
   "execution_count": 51,
   "metadata": {},
   "outputs": [
    {
     "name": "stdout",
     "output_type": "stream",
     "text": [
      "50 even\n",
      "60 even\n",
      "34 even\n",
      "67 odd\n",
      "10 even\n"
     ]
    }
   ],
   "source": [
    "per = (50 ,60,34,67,10)\n",
    "for item in per:\n",
    "    if item%2==0:\n",
    "        print(item,\"even\")\n",
    "    else:\n",
    "        print(item,\"odd\")"
   ]
  },
  {
   "cell_type": "code",
   "execution_count": 64,
   "metadata": {},
   "outputs": [
    {
     "name": "stdout",
     "output_type": "stream",
     "text": [
      "('name', 'upflairs')\n",
      "('branch', 'jaipur')\n",
      "('type', 'pvt')\n"
     ]
    }
   ],
   "source": [
    "dt = {\n",
    "    \"name\": \"upflairs\",\n",
    "    \"branch\":\"jaipur\",\n",
    "    \"type\": \"pvt\"\n",
    "}\n",
    "for x in dt.items():\n",
    "    print(x)\n",
    "    # print(\" \".join(dt))"
   ]
  },
  {
   "cell_type": "code",
   "execution_count": null,
   "metadata": {},
   "outputs": [],
   "source": [
    "#table "
   ]
  },
  {
   "cell_type": "code",
   "execution_count": 6,
   "metadata": {},
   "outputs": [
    {
     "name": "stdout",
     "output_type": "stream",
     "text": [
      "red\n",
      "black\n",
      "green\n",
      "a\n",
      "b\n"
     ]
    }
   ],
   "source": [
    "## for \n",
    "lst = [\"red\",\"black\",\"green\",\"a\",\"b\"]      ###iterable \n",
    "for x in lst:\n",
    "    print(x)"
   ]
  },
  {
   "cell_type": "code",
   "execution_count": 4,
   "metadata": {},
   "outputs": [
    {
     "name": "stdout",
     "output_type": "stream",
     "text": [
      "u\n",
      "p\n",
      "f\n",
      "l\n",
      "a\n",
      "i\n",
      "r\n",
      "s\n"
     ]
    }
   ],
   "source": [
    "st = \"upflairs\"\n",
    "for letter in st:\n",
    "    print(letter)"
   ]
  },
  {
   "cell_type": "code",
   "execution_count": 10,
   "metadata": {},
   "outputs": [
    {
     "name": "stdout",
     "output_type": "stream",
     "text": [
      "1\n",
      "2\n"
     ]
    }
   ],
   "source": [
    "### break //////continue\n",
    "\n",
    "lst = [1,2,3,4,5]\n",
    "for i in lst:\n",
    "    # print(i)\n",
    "    if i==3:\n",
    "        break\n",
    "    print(i)\n"
   ]
  },
  {
   "cell_type": "code",
   "execution_count": 12,
   "metadata": {},
   "outputs": [
    {
     "name": "stdout",
     "output_type": "stream",
     "text": [
      "1\n",
      "2\n",
      "4\n",
      "5\n"
     ]
    }
   ],
   "source": [
    "lst = [1,2,3,4,5]\n",
    "for i in lst:\n",
    "    # print(i)\n",
    "    if i==3:\n",
    "        continue\n",
    "\n",
    "    print(i)\n"
   ]
  },
  {
   "cell_type": "code",
   "execution_count": 15,
   "metadata": {},
   "outputs": [
    {
     "name": "stdout",
     "output_type": "stream",
     "text": [
      "apple\n"
     ]
    }
   ],
   "source": [
    "tpl = (\"apple\",\"banana\",\"cherry\")\n",
    "for item in tpl:\n",
    "    if item ==\"banana\":\n",
    "        break\n",
    "    print(item)"
   ]
  },
  {
   "cell_type": "code",
   "execution_count": 16,
   "metadata": {},
   "outputs": [
    {
     "name": "stdout",
     "output_type": "stream",
     "text": [
      "0\n",
      "1\n",
      "2\n",
      "3\n",
      "4\n",
      "5\n",
      "6\n",
      "7\n",
      "8\n",
      "9\n"
     ]
    }
   ],
   "source": [
    "for i in range(10):\n",
    "    print(i)"
   ]
  },
  {
   "cell_type": "code",
   "execution_count": 17,
   "metadata": {},
   "outputs": [
    {
     "name": "stdout",
     "output_type": "stream",
     "text": [
      "4\n",
      "5\n",
      "6\n",
      "7\n",
      "8\n",
      "9\n"
     ]
    }
   ],
   "source": [
    "for i in range(4,10):\n",
    "    print(i)"
   ]
  },
  {
   "cell_type": "code",
   "execution_count": 20,
   "metadata": {},
   "outputs": [
    {
     "name": "stdout",
     "output_type": "stream",
     "text": [
      "5\n",
      "6\n",
      "7\n",
      "8\n",
      "9\n",
      "10\n",
      "11\n",
      "12\n",
      "13\n",
      "14\n"
     ]
    }
   ],
   "source": [
    "for i in range(5,20):\n",
    "    if i ==15:\n",
    "        break\n",
    "    print(i)\n",
    "else:\n",
    "    print(\"finish\")"
   ]
  },
  {
   "cell_type": "code",
   "execution_count": 26,
   "metadata": {},
   "outputs": [
    {
     "name": "stdout",
     "output_type": "stream",
     "text": [
      "apple red\n",
      "apple black\n",
      "apple grey\n",
      "banana red\n",
      "banana black\n",
      "banana grey\n",
      "cherry red\n",
      "cherry black\n",
      "cherry grey\n"
     ]
    }
   ],
   "source": [
    "### nested loop\n",
    "lst1 = [\"apple\",\"banana\",\"cherry\"]\n",
    "lst2 = [\"red\",\"black\",\"grey\"]\n",
    "for i in lst1:\n",
    "    for j in lst2:\n",
    "        print(i,j)\n",
    "        # print(j)"
   ]
  },
  {
   "cell_type": "code",
   "execution_count": 28,
   "metadata": {},
   "outputs": [
    {
     "name": "stdout",
     "output_type": "stream",
     "text": [
      "hi\n",
      "hi\n",
      "hi\n",
      "hi\n",
      "hi\n",
      "hi\n",
      "hi\n",
      "hi\n",
      "hi\n",
      "hi\n",
      "hi\n",
      "hi\n",
      "hi\n",
      "numerical\n",
      "hi\n",
      "hi\n",
      "hi\n",
      "hi\n",
      "hi\n",
      "hi\n",
      "hi\n",
      "hi\n",
      "hi\n",
      "hi\n",
      "hi\n"
     ]
    }
   ],
   "source": [
    "name = \"upflairs pvt 8 ltd jaipur\"\n",
    "for char in name:\n",
    "    if char ==\"8\":\n",
    "        print(\"numerical\")\n",
    "    else:\n",
    "        print(\"hi\")"
   ]
  },
  {
   "cell_type": "code",
   "execution_count": 30,
   "metadata": {},
   "outputs": [
    {
     "name": "stdout",
     "output_type": "stream",
     "text": [
      "even numbber 12\n",
      "odd num 3\n",
      "even numbber 4\n",
      "even numbber 556\n",
      "odd num 63\n",
      "even numbber 112\n",
      "odd num 23\n"
     ]
    }
   ],
   "source": [
    "tpl = (12,3,4,556,63,112,23)\n",
    "for i in tpl:\n",
    "    if i%2==0:\n",
    "        print('even numbber',i)\n",
    "    else:\n",
    "        print(\"odd num\",i)"
   ]
  },
  {
   "cell_type": "code",
   "execution_count": 46,
   "metadata": {},
   "outputs": [
    {
     "name": "stdout",
     "output_type": "stream",
     "text": [
      "winners china\n",
      "winners India\n",
      "losers Japan\n"
     ]
    }
   ],
   "source": [
    "dt = {\n",
    "    \"china\": 10,\n",
    "    \"India\":8,\n",
    "    \"Japan\":5 \n",
    "}\n",
    "for x,y in dt.items():\n",
    "    if y>5:\n",
    "        print(\"winners\",x)\n",
    "    elif y==5:\n",
    "        print(\"losers\",x)\n",
    "    else:\n",
    "        print(\"byeee\")\n",
    "    # print(\" \".join(x))"
   ]
  },
  {
   "cell_type": "code",
   "execution_count": 47,
   "metadata": {},
   "outputs": [
    {
     "name": "stdout",
     "output_type": "stream",
     "text": [
      "5  * 1  = 5\n",
      "5  * 2  = 10\n",
      "5  * 3  = 15\n",
      "5  * 4  = 20\n",
      "5  * 5  = 25\n",
      "5  * 6  = 30\n",
      "5  * 7  = 35\n",
      "5  * 8  = 40\n",
      "5  * 9  = 45\n",
      "5  * 10  = 50\n"
     ]
    }
   ],
   "source": [
    "y = int(input(\"enter number\"))\n",
    "for i in range(1,11):            \n",
    "   print(f\"{y}  * {i}  = {y*i }\"  )"
   ]
  },
  {
   "cell_type": "code",
   "execution_count": 50,
   "metadata": {},
   "outputs": [
    {
     "name": "stdout",
     "output_type": "stream",
     "text": [
      "1\n",
      "2\n",
      "3\n",
      "4\n",
      "5\n",
      "6\n",
      "7\n",
      "8\n",
      "9\n",
      "10\n"
     ]
    }
   ],
   "source": [
    "i = 1\n",
    "while i<=10:\n",
    "    print(i)\n",
    "    i +=1                        "
   ]
  },
  {
   "cell_type": "code",
   "execution_count": null,
   "metadata": {},
   "outputs": [],
   "source": []
  }
 ],
 "metadata": {
  "kernelspec": {
   "display_name": "Python 3",
   "language": "python",
   "name": "python3"
  },
  "language_info": {
   "codemirror_mode": {
    "name": "ipython",
    "version": 3
   },
   "file_extension": ".py",
   "mimetype": "text/x-python",
   "name": "python",
   "nbconvert_exporter": "python",
   "pygments_lexer": "ipython3",
   "version": "3.12.4"
  }
 },
 "nbformat": 4,
 "nbformat_minor": 2
}
