{
 "cells": [
  {
   "cell_type": "code",
   "execution_count": 2,
   "metadata": {},
   "outputs": [],
   "source": [
    "a = 20 \n",
    "b = 30 \n",
    "if a<b :\n",
    "    pass"
   ]
  },
  {
   "cell_type": "code",
   "execution_count": 5,
   "metadata": {},
   "outputs": [
    {
     "name": "stdout",
     "output_type": "stream",
     "text": [
      "11\n"
     ]
    }
   ],
   "source": [
    "a = int(input(\"enter number\"))\n",
    "print(a)"
   ]
  },
  {
   "cell_type": "code",
   "execution_count": 9,
   "metadata": {},
   "outputs": [
    {
     "name": "stdout",
     "output_type": "stream",
     "text": [
      "<class 'float'>\n"
     ]
    }
   ],
   "source": [
    "## type casting\n",
    "a = float(2)\n",
    "print(type(a))"
   ]
  },
  {
   "cell_type": "code",
   "execution_count": 18,
   "metadata": {},
   "outputs": [],
   "source": [
    "##prime number check \n",
    "# x = int(input(\"enter number\"))\n",
    "# if x%x==0 :\n",
    "#     print(\"number is prime\")\n",
    "# else :\n",
    "#     print(\"number not prime\")"
   ]
  },
  {
   "cell_type": "markdown",
   "metadata": {},
   "source": [
    "# LOOP\n"
   ]
  },
  {
   "cell_type": "markdown",
   "metadata": {},
   "source": [
    "itearting over a seq \n",
    "\n",
    "loops are of 2 types:\n",
    "\n",
    "1 for\n",
    "\n",
    "2 while"
   ]
  },
  {
   "cell_type": "code",
   "execution_count": 25,
   "metadata": {},
   "outputs": [
    {
     "name": "stdout",
     "output_type": "stream",
     "text": [
      "apple\n",
      "banana\n",
      "cherry\n",
      "melon\n"
     ]
    }
   ],
   "source": [
    "fruits = [\"apple\",\"banana\",\"cherry\",\"melon\"]\n",
    "for x in fruits:  \n",
    "    print(x)"
   ]
  },
  {
   "cell_type": "code",
   "execution_count": 26,
   "metadata": {},
   "outputs": [
    {
     "name": "stdout",
     "output_type": "stream",
     "text": [
      "U\n",
      "P\n",
      "F\n",
      "L\n",
      "A\n",
      "I\n",
      "R\n",
      "S\n"
     ]
    }
   ],
   "source": [
    "for n in \"UPFLAIRS\":\n",
    "    print(n)\n"
   ]
  },
  {
   "cell_type": "code",
   "execution_count": null,
   "metadata": {},
   "outputs": [],
   "source": [
    "## break\n",
    "## continue\n"
   ]
  },
  {
   "cell_type": "code",
   "execution_count": 31,
   "metadata": {},
   "outputs": [
    {
     "name": "stdout",
     "output_type": "stream",
     "text": [
      "apple\n"
     ]
    }
   ],
   "source": [
    "# break statement\n",
    "fruits = [\"apple\",\"banana\",\"cherry\",\"melon\"]\n",
    "for item in fruits:\n",
    "    print(item)\n",
    "    if item == \"banana\":\n",
    "        break\n",
    "    # print(item)\n",
    "    \n"
   ]
  },
  {
   "cell_type": "code",
   "execution_count": 33,
   "metadata": {},
   "outputs": [
    {
     "name": "stdout",
     "output_type": "stream",
     "text": [
      "apple\n",
      "cherry\n",
      "melon\n"
     ]
    }
   ],
   "source": [
    "fruits = [\"apple\",\"banana\",\"cherry\",\"melon\"]\n",
    "for item in fruits:\n",
    "    \n",
    "    if item == \"banana\":\n",
    "        continue\n",
    "    print(item)\n",
    "    "
   ]
  },
  {
   "cell_type": "code",
   "execution_count": 37,
   "metadata": {},
   "outputs": [
    {
     "name": "stdout",
     "output_type": "stream",
     "text": [
      "2\n",
      "3\n",
      "4\n",
      "5\n",
      "6\n"
     ]
    }
   ],
   "source": [
    "for x in range(2,7):\n",
    "    print(x)"
   ]
  },
  {
   "cell_type": "code",
   "execution_count": 39,
   "metadata": {},
   "outputs": [
    {
     "name": "stdout",
     "output_type": "stream",
     "text": [
      "0\n",
      "1\n",
      "2\n",
      "3\n",
      "4\n",
      "5\n",
      "finish\n"
     ]
    }
   ],
   "source": [
    "## esle \n",
    "for x in range(6):\n",
    "    print(x)\n",
    "else:\n",
    "    print(\"finish\")"
   ]
  },
  {
   "cell_type": "code",
   "execution_count": 40,
   "metadata": {},
   "outputs": [
    {
     "name": "stdout",
     "output_type": "stream",
     "text": [
      "0\n",
      "1\n",
      "2\n"
     ]
    }
   ],
   "source": [
    "for x in range(6):\n",
    "    if x==3: break\n",
    "    print(x)\n",
    "else:\n",
    "    print(\"finish\")\n"
   ]
  },
  {
   "cell_type": "code",
   "execution_count": 45,
   "metadata": {},
   "outputs": [
    {
     "name": "stdout",
     "output_type": "stream",
     "text": [
      "red\n",
      "apple\n",
      "black\n",
      "apple\n",
      "green\n",
      "apple\n",
      "red\n",
      "banana\n",
      "black\n",
      "banana\n",
      "green\n",
      "banana\n",
      "red\n",
      "cherry\n",
      "black\n",
      "cherry\n",
      "green\n",
      "cherry\n"
     ]
    }
   ],
   "source": [
    "##nested loop\n",
    "list1 = [\"apple\",\"banana\",\"cherry\"]\n",
    "list2 = [\"red\",\"black\",\"green\"]\n",
    "\n",
    "for x in list1:\n",
    "    for y in list2:\n",
    "        print(y)\n",
    "        print(x)"
   ]
  },
  {
   "cell_type": "code",
   "execution_count": 47,
   "metadata": {},
   "outputs": [
    {
     "name": "stdout",
     "output_type": "stream",
     "text": [
      "hi\n",
      "hi\n",
      "hi\n",
      "hi\n",
      "hi\n",
      "hi\n",
      "hi\n",
      "hi\n",
      "hi\n",
      "hi\n",
      "hi\n",
      "hi\n",
      "hi\n",
      "hi\n",
      "hi\n",
      "hi\n",
      "hi\n",
      "hi\n",
      "hi\n",
      "hi\n",
      "hi\n",
      "hi\n",
      "hi\n",
      "hi\n"
     ]
    }
   ],
   "source": [
    "name = \"upflairs pvt  ltd jaipur\"\n",
    "for char in name:\n",
    "    if char ==\"8\":\n",
    "        print(\"numerical\")\n",
    "    else:\n",
    "        print(\"hi\")"
   ]
  },
  {
   "cell_type": "code",
   "execution_count": 50,
   "metadata": {},
   "outputs": [
    {
     "name": "stdout",
     "output_type": "stream",
     "text": [
      "50 pass\n",
      "60 pass\n",
      "34 pass\n",
      "67 pass\n",
      "10 fail\n"
     ]
    }
   ],
   "source": [
    "per = [50 ,60,34,67,10]\n",
    "for item in per:\n",
    "    if item<=30:\n",
    "        print(item,\"fail\")\n",
    "    else:\n",
    "        print(item,\"pass\")\n",
    "    "
   ]
  },
  {
   "cell_type": "code",
   "execution_count": 51,
   "metadata": {},
   "outputs": [
    {
     "name": "stdout",
     "output_type": "stream",
     "text": [
      "50 even\n",
      "60 even\n",
      "34 even\n",
      "67 odd\n",
      "10 even\n"
     ]
    }
   ],
   "source": [
    "per = (50 ,60,34,67,10)\n",
    "for item in per:\n",
    "    if item%2==0:\n",
    "        print(item,\"even\")\n",
    "    else:\n",
    "        print(item,\"odd\")"
   ]
  },
  {
   "cell_type": "code",
   "execution_count": 64,
   "metadata": {},
   "outputs": [
    {
     "name": "stdout",
     "output_type": "stream",
     "text": [
      "('name', 'upflairs')\n",
      "('branch', 'jaipur')\n",
      "('type', 'pvt')\n"
     ]
    }
   ],
   "source": [
    "dt = {\n",
    "    \"name\": \"upflairs\",\n",
    "    \"branch\":\"jaipur\",\n",
    "    \"type\": \"pvt\"\n",
    "}\n",
    "for x in dt.items():\n",
    "    print(x)\n",
    "    # print(\" \".join(dt))"
   ]
  },
  {
   "cell_type": "code",
   "execution_count": null,
   "metadata": {},
   "outputs": [],
   "source": [
    "#table "
   ]
  }
 ],
 "metadata": {
  "kernelspec": {
   "display_name": "Python 3",
   "language": "python",
   "name": "python3"
  },
  "language_info": {
   "codemirror_mode": {
    "name": "ipython",
    "version": 3
   },
   "file_extension": ".py",
   "mimetype": "text/x-python",
   "name": "python",
   "nbconvert_exporter": "python",
   "pygments_lexer": "ipython3",
   "version": "3.12.4"
  }
 },
 "nbformat": 4,
 "nbformat_minor": 2
}
