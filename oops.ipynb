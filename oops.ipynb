{
 "cells": [
  {
   "cell_type": "code",
   "execution_count": 19,
   "metadata": {},
   "outputs": [
    {
     "name": "stdout",
     "output_type": "stream",
     "text": [
      "25\n",
      "2000\n",
      "elephant\n",
      "tiger\n",
      "2000\n"
     ]
    }
   ],
   "source": [
    "class Animal:\n",
    "    \n",
    "    #class variables \n",
    "    name = \"elephant\"\n",
    "    weight = 2000\n",
    "    age = 25 \n",
    "    # function vs method                   \n",
    "    def display(self):                                                \n",
    "        print(self.weight)\n",
    "\n",
    "\n",
    "\n",
    "animal_objects= Animal()\n",
    "print(animal_objects.age)\n",
    "print(animal_objects.weight)\n",
    "print(animal_objects.name)\n",
    "\n",
    "\n",
    "animal_objects.name = \"tiger\"\n",
    "print(animal_objects.name)\n",
    "\n",
    "\n",
    "animal_objects.display()\n",
    "\n",
    "\n",
    "\n"
   ]
  },
  {
   "cell_type": "code",
   "execution_count": 31,
   "metadata": {},
   "outputs": [
    {
     "name": "stdout",
     "output_type": "stream",
     "text": [
      "25\n",
      "lion\n",
      "tiger\n",
      "25\n",
      "500\n",
      "20\n",
      "200\n",
      "30\n",
      "10000\n"
     ]
    }
   ],
   "source": [
    "class Animal:\n",
    "    #class variable\n",
    "    num1 = 10000\n",
    "    num2 = 300\n",
    "\n",
    "    def __init__(self,name,weight,age): \n",
    "        ##instance variables                                   #init is a constructor \n",
    "        self.animal_name = name\n",
    "        self.animal_weight = weight\n",
    "        self.animal_age = age\n",
    "\n",
    "    def display(self):\n",
    "        print(self.animal_age)\n",
    "        print(self.animal_weight)\n",
    "\n",
    "\n",
    "# obj1 = Animal(name=\"tiger\",weight=200,age=20)\n",
    "obj1 = Animal(\"lion\",500,25)\n",
    "print(obj1.animal_age)\n",
    "print(obj1.animal_name)\n",
    "\n",
    "obj2 = Animal(\"tiger\",200,20)\n",
    "print(obj2.animal_name)\n",
    "\n",
    "\n",
    "obj1.display()\n",
    "obj2.display()\n",
    "\n",
    "obj1.animal_age = 30\n",
    "print(obj1.animal_age)\n",
    "\n",
    "print(obj1.num1)\n",
    "\n",
    "\n",
    "\n",
    "\n",
    "\n",
    "    \n",
    "        \n"
   ]
  },
  {
   "cell_type": "code",
   "execution_count": 41,
   "metadata": {},
   "outputs": [
    {
     "name": "stdout",
     "output_type": "stream",
     "text": [
      "name of the acc holder:- Jai and account number is:- 123456789\n",
      "name of the acc holder is changed to  rohit\n",
      "rohit\n",
      "22\n",
      "jaipur rajasthan\n",
      "canara bank\n",
      "123456789\n",
      "\n",
      "secound account details\n",
      "Jai\n",
      "22\n",
      "jaipur rajasthan\n",
      "canara bank\n",
      "123456789\n"
     ]
    }
   ],
   "source": [
    "class Bank:\n",
    "    name = \"Jai\"\n",
    "    age = 22\n",
    "    address = \"jaipur rajasthan\"\n",
    "    bank_name = \"canara bank\"\n",
    "    account = 123456789\n",
    "\n",
    "    def show_info(self):\n",
    "        print(self.name)\n",
    "        print(self.age)\n",
    "        print(self.address)\n",
    "        print(self.bank_name)\n",
    "        print(self.account)\n",
    "\n",
    "\n",
    "\n",
    "account_1=Bank()\n",
    "print(\"name of the acc holder:-\",account_1.name,\"and account number is:-\",account_1.account)\n",
    "\n",
    "account_1.name = \"rohit\"\n",
    "print(\"name of the acc holder is changed to \",account_1.name)\n",
    "\n",
    "account_1.show_info()\n",
    "print()\n",
    "print(\"secound account details\")\n",
    "\n",
    "account_2 = Bank()\n",
    "# print(account_2.name)\n",
    "\n",
    "account_2.show_info()"
   ]
  },
  {
   "cell_type": "markdown",
   "metadata": {},
   "source": [
    "# Inheritance\n"
   ]
  },
  {
   "cell_type": "markdown",
   "metadata": {},
   "source": [
    "<img src = \"typesofinheritance.gif\">"
   ]
  },
  {
   "cell_type": "markdown",
   "metadata": {},
   "source": [
    "Inheritance allows us to define a class that inherits all the methods and properties from another class.\n",
    "\n",
    "Parent class is the class being inherited from, also called base class.\n",
    "\n",
    "Child class is the class that inherits from another class, also called derived class."
   ]
  },
  {
   "cell_type": "code",
   "execution_count": 45,
   "metadata": {},
   "outputs": [
    {
     "name": "stdout",
     "output_type": "stream",
     "text": [
      "consturctor is executed\n",
      "Mohan singh\n",
      "my father name is: Mohan singh\n",
      "my father age is : 40\n",
      "hi I am Rohit\n",
      "My age is 22\n"
     ]
    }
   ],
   "source": [
    "## single inh \n",
    "\n",
    "class Father:\n",
    "    def __init__(self,name,age):\n",
    "        self.father_name = name\n",
    "        self.father_age = age \n",
    "        print(\"consturctor is executed\")\n",
    "\n",
    "    def display(self):\n",
    "        print(\"my father name is:\",self.father_name)\n",
    "        print(\"my father age is :\",self.father_age)\n",
    "\n",
    "class Son(Father):\n",
    "\n",
    "    def son_hii(self):\n",
    "        print(\"hi I am Rohit\")\n",
    "        print(\"My age is 22\")\n",
    "\n",
    "    \n",
    "son_obj = Son(\"Mohan singh\",40)\n",
    "print(son_obj.father_name)\n",
    "son_obj.display()\n",
    "\n",
    "son_obj.son_hii()\n",
    "\n",
    "\n",
    "\n",
    "        "
   ]
  },
  {
   "cell_type": "code",
   "execution_count": 50,
   "metadata": {},
   "outputs": [],
   "source": [
    "### multilevel inh\n",
    "\n",
    "class grandfather:\n",
    "    def __init__(self,grandfather_name,grandfather_age,grandfather_health):\n",
    "        self.grandfather_name= grandfather_name\n",
    "        self.grandfather_age = grandfather_age\n",
    "        self.grandfather_health = grandfather_health\n",
    "\n",
    "    def grandfather_hii(self):\n",
    "        print(f\"this is your grandpa {self.grandfather_name}\")\n",
    "        print(f\"and now i am {self.grandfather_age} year old\")\n",
    "        print(f\"and still I am {self.grandfather_health}\")\n",
    "        \n",
    "#python also has a super() function that will make the child class inherit all the methods and properties from its parent class:\n",
    "\n",
    "class Father(grandfather):\n",
    "    def __init__(self, father_name, mother_name, address):\n",
    "        self.father_name = father_name\n",
    "        self.mother_name = mother_name\n",
    "        self.address = address\n",
    "        super().__init__(grandfather_name = grandfather_name, grandfather_age= grandfather_age, grandfather_health = grandfather_health)\n",
    "\n",
    "    def father_hii(self):\n",
    "        print(f\"hi son this is your father{self.father_name}\")\n",
    "        print(f\"my father name is :- {self.father_name}\")\n",
    "        print(f\"my mother name is this :- {self.mother_name}\")\n",
    "        print(f\"and i am from {self.address}\")\n",
    "\n",
    "\n",
    "class child(Father):\n",
    "    def __init__(self,my_name,my_profession,my_company,father_name, mother_name, address,grandfather_name,grandfather_age,grandfather_health):\n",
    "        self.my_name = my_name\n",
    "        self.my_profession = my_profession\n",
    "        self.my_company = my_company\n",
    "        Father().__init__(self,father_name=father_name, mother_name=mother_name, address=address)\n",
    "        grandfather().__init__(grandfather_name = grandfather_name, grandfather_age= grandfather_age, grandfather_health = grandfather_health)\n",
    "\n",
    "\n",
    "    def full_intro(self):\n",
    "        self.grandfather_hii()\n",
    "        print()\n",
    "        self.father_hii()\n",
    "        print()\n",
    "\n",
    "        print(f\"my name is {self.my_name}\")\n",
    "        print(f\"i am working as {self.my_profession}\")\n",
    "        print(f\"and i am working in {self.my_company}\")\n",
    "\n",
    "\n",
    "    def child_hii(self):\n",
    "        print(f\"hello i am {self.my_name}\")\n",
    "        print(f\"i am working in {self.my_company}\")\n",
    "        print(f\"as a {self.my_profession}\")"
   ]
  },
  {
   "cell_type": "code",
   "execution_count": null,
   "metadata": {},
   "outputs": [],
   "source": []
  }
 ],
 "metadata": {
  "kernelspec": {
   "display_name": "Python 3",
   "language": "python",
   "name": "python3"
  },
  "language_info": {
   "codemirror_mode": {
    "name": "ipython",
    "version": 3
   },
   "file_extension": ".py",
   "mimetype": "text/x-python",
   "name": "python",
   "nbconvert_exporter": "python",
   "pygments_lexer": "ipython3",
   "version": "3.12.4"
  }
 },
 "nbformat": 4,
 "nbformat_minor": 2
}
