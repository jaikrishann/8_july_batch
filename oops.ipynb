{
 "cells": [
  {
   "cell_type": "code",
   "execution_count": 3,
   "metadata": {},
   "outputs": [
    {
     "name": "stdout",
     "output_type": "stream",
     "text": [
      "25\n",
      "2000\n",
      "elephant\n",
      "tiger\n"
     ]
    }
   ],
   "source": [
    "class Animal:\n",
    "    \n",
    "    \n",
    "    #class variables \n",
    "    name = \"elephant\"\n",
    "    weight = 2000\n",
    "    age = 25 \n",
    "    # function vs method                   \n",
    "    def display(self):                                                \n",
    "        print(self.name)\n",
    "        print(self.weight)\n",
    "\n",
    "\n",
    "\n",
    "\n",
    "animal_objects = Animal()\n",
    "print(animal_objects.age)\n",
    "print(animal_objects.weight)\n",
    "print(animal_objects.name)\n",
    "\n",
    "\n",
    "\n",
    "animal_objects.name = \"tiger\"\n",
    "print(animal_objects.name)\n",
    "\n",
    "\n",
    "animal_objects.display()\n",
    "\n",
    "\n",
    "\n"
   ]
  },
  {
   "cell_type": "code",
   "execution_count": 6,
   "metadata": {},
   "outputs": [
    {
     "name": "stdout",
     "output_type": "stream",
     "text": [
      "25\n",
      "500\n",
      "tiger\n",
      "snake\n",
      "20\n",
      "lion\n",
      "25\n",
      "500\n",
      "tiger\n",
      "20\n",
      "200\n",
      "30\n",
      "300\n",
      "10000\n"
     ]
    }
   ],
   "source": [
    "class Animal:\n",
    "    #class variable\n",
    "    num1 = 10000\n",
    "    num2 = 300\n",
    "\n",
    "    def __init__(self,name,weight,age): \n",
    "        ##instance variables                                   #init is a constructor \n",
    "        self.animal_name = name\n",
    "        self.animal_weight = weight\n",
    "        self.animal_age = age\n",
    "\n",
    "    def display(self):\n",
    "        print(self.animal_name)\n",
    "        print(self.animal_age)\n",
    "        print(self.animal_weight)\n",
    "\n",
    "\n",
    "# obj1 = Animal(name=\"tiger\",weight=200,age=20)\n",
    "obj1 = Animal(\"lion\",500,25)\n",
    "print(obj1.animal_age)                          \n",
    "print(obj1.animal_weight)\n",
    "\n",
    "obj2 = Animal(\"tiger\",200,20)\n",
    "print(obj2.animal_name)\n",
    "\n",
    "obj3 = Animal(\"snake\",20,2)\n",
    "print(obj3.animal_name)\n",
    "print(obj3.animal_weight)\n",
    "\n",
    "\n",
    "obj1.display()\n",
    "obj2.display()\n",
    "\n",
    "obj1.animal_age = 30\n",
    "print(obj1.animal_age)\n",
    "\n",
    "print(obj1.num2)\n",
    "print(obj3.num1)\n",
    "\n",
    "\n",
    "\n",
    "\n",
    "\n",
    "    \n",
    "        \n"
   ]
  },
  {
   "cell_type": "code",
   "execution_count": 41,
   "metadata": {},
   "outputs": [
    {
     "name": "stdout",
     "output_type": "stream",
     "text": [
      "name of the acc holder:- Jai and account number is:- 123456789\n",
      "name of the acc holder is changed to  rohit\n",
      "rohit\n",
      "22\n",
      "jaipur rajasthan\n",
      "canara bank\n",
      "123456789\n",
      "\n",
      "secound account details\n",
      "Jai\n",
      "22\n",
      "jaipur rajasthan\n",
      "canara bank\n",
      "123456789\n"
     ]
    }
   ],
   "source": [
    "class Bank:\n",
    "    name = \"Jai\"\n",
    "    age = 22\n",
    "    address = \"jaipur rajasthan\"\n",
    "    bank_name = \"canara bank\"\n",
    "    account = 123456789\n",
    "\n",
    "    def show_info(self):\n",
    "        print(self.name)\n",
    "        print(self.age)\n",
    "        print(self.address)\n",
    "        print(self.bank_name)\n",
    "        print(self.account)\n",
    "\n",
    "\n",
    "\n",
    "account_1=Bank()\n",
    "print(\"name of the acc holder:-\",account_1.name,\"and account number is:-\",account_1.account)\n",
    "\n",
    "account_1.name = \"rohit\"\n",
    "print(\"name of the acc holder is changed to \",account_1.name)\n",
    "\n",
    "account_1.show_info()\n",
    "print()\n",
    "print(\"secound account details\")\n",
    "\n",
    "account_2 = Bank()\n",
    "# print(account_2.name)\n",
    "\n",
    "account_2.show_info()"
   ]
  },
  {
   "cell_type": "markdown",
   "metadata": {},
   "source": [
    "# Inheritance\n"
   ]
  },
  {
   "cell_type": "markdown",
   "metadata": {},
   "source": [
    "<img src = \"typesofinheritance.gif\">"
   ]
  },
  {
   "cell_type": "markdown",
   "metadata": {},
   "source": [
    "Inheritance allows us to define a class that inherits all the methods and properties from another class.\n",
    "\n",
    "Parent class is the class being inherited from, also called base class.\n",
    "\n",
    "Child class is the class that inherits from another class, also called derived class."
   ]
  },
  {
   "cell_type": "code",
   "execution_count": 45,
   "metadata": {},
   "outputs": [
    {
     "name": "stdout",
     "output_type": "stream",
     "text": [
      "consturctor is executed\n",
      "Mohan singh\n",
      "my father name is: Mohan singh\n",
      "my father age is : 40\n",
      "hi I am Rohit\n",
      "My age is 22\n"
     ]
    }
   ],
   "source": [
    "## single inh \n",
    "\n",
    "class Father:\n",
    "    def __init__(self,name,age):\n",
    "        self.father_name = name\n",
    "        self.father_age = age \n",
    "        print(\"consturctor is executed\")\n",
    "\n",
    "    def display(self):\n",
    "        print(\"my father name is:\",self.father_name)\n",
    "        print(\"my father age is :\",self.father_age)\n",
    "\n",
    "class Son(Father):\n",
    "    \n",
    "    def son_hii(self):\n",
    "        print(\"hi I am Rohit\")\n",
    "        print(\"My age is 22\")\n",
    "\n",
    "    \n",
    "son_obj = Son(\"Mohan singh\",40)\n",
    "print(son_obj.father_name)\n",
    "son_obj.display()\n",
    "\n",
    "son_obj.son_hii()\n",
    "\n",
    "\n",
    "\n",
    "        "
   ]
  },
  {
   "cell_type": "code",
   "execution_count": 1,
   "metadata": {},
   "outputs": [],
   "source": [
    "# ### multilevel inh\n",
    "\n",
    "# class grandfather:\n",
    "#     def __init__(self,grandfather_name,grandfather_age,grandfather_health):\n",
    "#         self.grandfather_name= grandfather_name\n",
    "#         self.grandfather_age = grandfather_age\n",
    "#         self.grandfather_health = grandfather_health\n",
    "\n",
    "#     def grandfather_hii(self):\n",
    "#         print(f\"this is your grandpa {self.grandfather_name}\")\n",
    "#         print(f\"and now i am {self.grandfather_age} year old\")\n",
    "#         print(f\"and still I am {self.grandfather_health}\")\n",
    "        \n",
    "# #python also has a super() function that will make the child class inherit all the methods and properties from its parent class:\n",
    "\n",
    "# class Father(grandfather):\n",
    "#     def __init__(self, father_name, mother_name, address):\n",
    "#         self.father_name = father_name\n",
    "#         self.mother_name = mother_name\n",
    "#         self.address = address\n",
    "#         super().__init__(grandfather_name = grandfather_name, grandfather_age= grandfather_age, grandfather_health = grandfather_health)\n",
    "\n",
    "#     def father_hii(self):\n",
    "#         print(f\"hi son this is your father{self.father_name}\")\n",
    "#         print(f\"my father name is :- {self.father_name}\")\n",
    "#         print(f\"my mother name is this :- {self.mother_name}\")\n",
    "#         print(f\"and i am from {self.address}\")\n",
    "\n",
    "\n",
    "# class child(Father):\n",
    "#     def __init__(self,my_name,my_profession,my_company,father_name, mother_name, address,grandfather_name,grandfather_age,grandfather_health):\n",
    "#         self.my_name = my_name\n",
    "#         self.my_profession = my_profession\n",
    "#         self.my_company = my_company\n",
    "#         Father().__init__(self,father_name=father_name, mother_name=mother_name, address=address)\n",
    "#         grandfather().__init__(grandfather_name = grandfather_name, grandfather_age= grandfather_age, grandfather_health = grandfather_health)\n",
    "\n",
    "\n",
    "#     def full_intro(self):\n",
    "#         self.grandfather_hii()\n",
    "#         print()\n",
    "#         self.father_hii()\n",
    "#         print()\n",
    "\n",
    "#         print(f\"my name is {self.my_name}\")\n",
    "#         print(f\"i am working as {self.my_profession}\")\n",
    "#         print(f\"and i am working in {self.my_company}\")\n",
    "\n",
    "\n",
    "#     def child_hii(self):\n",
    "#         print(f\"hello i am {self.my_name}\")\n",
    "#         print(f\"i am working in {self.my_company}\")\n",
    "#         print(f\"as a {self.my_profession}\")\n",
    "\n",
    "    \n",
    "# child_class_obj=child(my_name=\"jai\",my_profession=\"data sci eng\",my_company=\"upflairs\",father_name=\"mohan\",mother_name=\"xyz\",address=\"qwer\",grandfather_name=\"hgjk\",grandfather_age=60,grandfather_health=\"healthy\")\n"
   ]
  },
  {
   "cell_type": "markdown",
   "metadata": {},
   "source": [
    "<img src =\"Multilevel-inheritance1.png\">"
   ]
  },
  {
   "cell_type": "code",
   "execution_count": 4,
   "metadata": {},
   "outputs": [
    {
     "name": "stdout",
     "output_type": "stream",
     "text": [
      "This is your grandpa HGJK\n",
      "And now I am 60 years old\n",
      "And still I am healthy\n",
      "\n",
      "Hi son, this is your father Mohan\n",
      "My father's name is HGJK\n",
      "My mother's name is XYZ\n",
      "And I am from QWER\n",
      "\n",
      "My name is Jai\n",
      "I am working as a Data Scientist\n",
      "And I am working at Upflairs\n"
     ]
    }
   ],
   "source": [
    "class Grandfather:\n",
    "    def __init__(self, grandfather_name, grandfather_age, grandfather_health):\n",
    "        self.grandfather_name = grandfather_name\n",
    "        self.grandfather_age = grandfather_age\n",
    "        self.grandfather_health = grandfather_health\n",
    "\n",
    "    def grandfather_hii(self):\n",
    "        print(f\"This is your grandpa {self.grandfather_name}\")\n",
    "        print(f\"And now I am {self.grandfather_age} years old\")\n",
    "        print(f\"And still I am {self.grandfather_health}\")\n",
    "\n",
    "#The super() function is used to give access to methods and properties of a parent or sibling class.\n",
    "\n",
    "# The super() function returns an object that represents the parent class.\n",
    "\n",
    "\n",
    "class Father(Grandfather):\n",
    "    def __init__(self, father_name, mother_name, address, grandfather_name, grandfather_age, grandfather_health):\n",
    "        super().__init__(grandfather_name, grandfather_age, grandfather_health)\n",
    "        self.father_name = father_name\n",
    "        self.mother_name = mother_name\n",
    "        self.address = address\n",
    "\n",
    "    def father_hii(self):\n",
    "        print(f\"Hi son, this is your father {self.father_name}\")\n",
    "        print(f\"My father's name is {self.grandfather_name}\")\n",
    "        print(f\"My mother's name is {self.mother_name}\")\n",
    "        print(f\"And I am from {self.address}\")\n",
    "\n",
    "\n",
    "class Child(Father):\n",
    "    def __init__(self, my_name, my_profession, my_company,father_name, mother_name, address, grandfather_name, grandfather_age, grandfather_health):\n",
    "        super().__init__(father_name, mother_name, address, grandfather_name, grandfather_age, grandfather_health)\n",
    "        self.my_name = my_name\n",
    "        self.my_profession = my_profession\n",
    "        self.my_company = my_company\n",
    "\n",
    "    def full_intro(self):\n",
    "        self.grandfather_hii()\n",
    "        print()\n",
    "        self.father_hii()\n",
    "        print()\n",
    "        print(f\"My name is {self.my_name}\")\n",
    "        print(f\"I am working as a {self.my_profession}\")\n",
    "        print(f\"And I am working at {self.my_company}\")\n",
    "\n",
    "    def child_hii(self):\n",
    "        print(f\"Hello, I am {self.my_name}\")\n",
    "        print(f\"I am working at {self.my_company}\")\n",
    "        print(f\"As a {self.my_profession}\")\n",
    "\n",
    "\n",
    "child_class_obj = Child(my_name=\"Jai\", my_profession=\"Data Scientist\", my_company=\"Upflairs\", father_name=\"Mohan\", mother_name=\"XYZ\", address=\"QWER\", grandfather_name=\"HGJK\", grandfather_age=60, grandfather_health=\"healthy\")\n",
    "child_class_obj.full_intro()\n",
    "\n",
    "\n",
    "\n"
   ]
  },
  {
   "cell_type": "code",
   "execution_count": null,
   "metadata": {},
   "outputs": [],
   "source": [
    "## multiple inh\n",
    "class Grandfather:\n",
    "    def __init__(self, grandfather_name, grandfather_age, grandfather_health):\n",
    "        self.grandfather_name = grandfather_name\n",
    "        self.grandfather_age = grandfather_age\n",
    "        self.grandfather_health = grandfather_health\n",
    "\n",
    "    def grandfather_hii(self):\n",
    "        print(f\"This is your grandpa {self.grandfather_name}\")\n",
    "        print(f\"And now I am {self.grandfather_age} years old\")\n",
    "        print(f\"And still I am {self.grandfather_health}\")\n",
    "\n",
    "\n",
    "class Father:\n",
    "    def __init__(self, father_name, mother_name, address):\n",
    "        self.father_name = father_name\n",
    "        self.mother_name = mother_name\n",
    "        self.address = address\n",
    "\n",
    "    def father_hii(self):\n",
    "        print(f\"Hi son, this is your father {self.father_name}\")\n",
    "        print(f\"My father's name is {self.grandfather_name}\")\n",
    "        print(f\"My mother's name is {self.mother_name}\")\n",
    "        print(f\"And I am from {self.address}\")\n",
    "\n",
    "\n",
    "class Child(Grandfather,Father):\n",
    "    def __init__(self, my_name, my_profession, my_company, father_name, mother_name, address, grandfather_name, grandfather_age, grandfather_health):\n",
    "        Father().__init__(father_name, mother_name, address)\n",
    "        Grandfather().__init__(grandfather_name, grandfather_age, grandfather_health)\n",
    "        self.my_name = my_name\n",
    "        self.my_profession = my_profession\n",
    "        self.my_company = my_company\n",
    "\n",
    "    def full_intro(self):\n",
    "        self.grandfather_hii()\n",
    "        print()\n",
    "        self.father_hii()\n",
    "        print()\n",
    "        print(f\"My name is {self.my_name}\")\n",
    "        print(f\"I am working as a {self.my_profession}\")\n",
    "        print(f\"And I am working at {self.my_company}\")\n",
    "\n",
    "    def child_hii(self):\n",
    "        print(f\"Hello, I am {self.my_name}\")\n",
    "        print(f\"I am working at {self.my_company}\")\n",
    "        print(f\"As a {self.my_profession}\")\n",
    "\n",
    "\n",
    "child_class_obj = Child(my_name=\"Jai\", my_profession=\"Data Scientist\", my_company=\"Upflairs\", father_name=\"Mohan\", mother_name=\"XYZ\", address=\"QWER\", grandfather_name=\"HGJK\", grandfather_age=60, grandfather_health=\"healthy\")\n",
    "child_class_obj.full_intro()\n"
   ]
  },
  {
   "cell_type": "code",
   "execution_count": 6,
   "metadata": {},
   "outputs": [
    {
     "name": "stdout",
     "output_type": "stream",
     "text": [
      "Woof!\n",
      "Meow!\n"
     ]
    }
   ],
   "source": [
    "# This means that a single method/function can have different behaviors depending on the object that calls it.\n",
    "\n",
    "\n",
    "class Animal:\n",
    "    def speak(self):\n",
    "        pass\n",
    "\n",
    "class Dog(Animal):\n",
    "    def speak(self):\n",
    "        return \"Woof!\"\n",
    "\n",
    "class Cat(Animal):\n",
    "    def speak(self):\n",
    "        return \"Meow!\"\n",
    "\n",
    "def make_animal_speak(animal):\n",
    "    print(animal.speak())\n",
    "\n",
    "# Creating instances of Dog and Cat\n",
    "dog = Dog()\n",
    "cat = Cat()\n",
    "\n",
    "# Using polymorphism to call the overridden methods\n",
    "make_animal_speak(dog)  # Outputs: Woof!\n",
    "make_animal_speak(cat)  # Outputs: Meow!\n"
   ]
  },
  {
   "cell_type": "code",
   "execution_count": 7,
   "metadata": {},
   "outputs": [
    {
     "name": "stdout",
     "output_type": "stream",
     "text": [
      "The area of the shape is: 50\n",
      "The area of the shape is: 153.93804002589985\n",
      "The area of the shape is: 24.0\n"
     ]
    }
   ],
   "source": [
    "import math\n",
    "\n",
    "class Shape:\n",
    "    def area(self):\n",
    "        pass\n",
    "\n",
    "class Rectangle(Shape):\n",
    "    def __init__(self, width, height):\n",
    "        self.width = width\n",
    "        self.height = height\n",
    "\n",
    "    def area(self):\n",
    "        return self.width * self.height\n",
    "\n",
    "class Circle(Shape):\n",
    "    def __init__(self, radius):\n",
    "        self.radius = radius\n",
    "\n",
    "    def area(self):\n",
    "        return math.pi * self.radius ** 2\n",
    "\n",
    "class Triangle(Shape):\n",
    "    def __init__(self, base, height):\n",
    "        self.base = base\n",
    "        self.height = height\n",
    "\n",
    "    def area(self):\n",
    "        return 0.5 * self.base * self.height\n",
    "\n",
    "def print_area(shape):\n",
    "    print(f\"The area of the shape is: {shape.area()}\")\n",
    "\n",
    "# Creating instances of each shape\n",
    "rectangle = Rectangle(5, 10)\n",
    "circle = Circle(7)\n",
    "triangle = Triangle(6, 8)\n",
    "\n",
    "# Using polymorphism to call the area method\n",
    "print_area(rectangle)  # Outputs: The area of the shape is: 50\n",
    "print_area(circle)     # Outputs: The area of the shape is: 153.93804002589985\n",
    "print_area(triangle)   # Outputs: The area of the shape is: 24.0\n"
   ]
  },
  {
   "cell_type": "code",
   "execution_count": 10,
   "metadata": {},
   "outputs": [
    {
     "name": "stdout",
     "output_type": "stream",
     "text": [
      "mohan\n",
      "mohan@gmail.com\n"
     ]
    },
    {
     "ename": "AttributeError",
     "evalue": "'son' object has no attribute '__son_pass'",
     "output_type": "error",
     "traceback": [
      "\u001b[1;31m---------------------------------------------------------------------------\u001b[0m",
      "\u001b[1;31mAttributeError\u001b[0m                            Traceback (most recent call last)",
      "Cell \u001b[1;32mIn[10], line 21\u001b[0m\n\u001b[0;32m     19\u001b[0m \u001b[38;5;28mprint\u001b[39m(obj\u001b[38;5;241m.\u001b[39mson_name)   \n\u001b[0;32m     20\u001b[0m \u001b[38;5;28mprint\u001b[39m(obj\u001b[38;5;241m.\u001b[39m_son_id)\n\u001b[1;32m---> 21\u001b[0m \u001b[38;5;28mprint\u001b[39m(\u001b[43mobj\u001b[49m\u001b[38;5;241;43m.\u001b[39;49m\u001b[43m__son_pass\u001b[49m)     \n",
      "\u001b[1;31mAttributeError\u001b[0m: 'son' object has no attribute '__son_pass'"
     ]
    }
   ],
   "source": [
    "## encapsulation\n",
    "# Encapsulation also restricts direct access to some of an object's components,\n",
    "# which is a means of preventing accidental interference and misuse of the methods and data.\n",
    "class fatherr:\n",
    "    son_name = \"mohan\"\n",
    "    son_age = \"16\"\n",
    "    _son_id= \"mohan@gmail.com\"\n",
    "    __son_pass = \"444\"\n",
    "\n",
    "    def display(self):\n",
    "        print(self.son_name,\"public variable\")\n",
    "        print(self._son_id,\"protected variable\")    \n",
    "        # protected variables can be accessed from within the class and its subclasses,\n",
    "        # but they are not intended to be accessed directly from outside the class.\n",
    "        print(self.__son_pass,\"private variable\")    \n",
    "        #This means they cannot be accessed directly from outside the class.\n",
    "\n",
    "class son(fatherr):\n",
    "    pass\n",
    "\n",
    "obj= son()\n",
    "print(obj.son_name)   \n",
    "print(obj._son_id)\n",
    "print(obj.__son_pass)     "
   ]
  },
  {
   "cell_type": "code",
   "execution_count": null,
   "metadata": {},
   "outputs": [],
   "source": [
    "#abstraction\n",
    "# Abstraction is one of the fundamental principles of object-oriented programming (OOP).\n",
    "# It involves hiding the complex implementation details of a system and exposing only the \n",
    "# necessary parts in a simplified manner. This allows users to interact with the system\n",
    "#  without needing to understand the underlying complexity. \n",
    "# In Python, abstraction can be achieved using abstract classes and interfaces."
   ]
  },
  {
   "cell_type": "markdown",
   "metadata": {},
   "source": [
    "len()"
   ]
  },
  {
   "cell_type": "code",
   "execution_count": 2,
   "metadata": {},
   "outputs": [
    {
     "ename": "TypeError",
     "evalue": "len() takes exactly one argument (0 given)",
     "output_type": "error",
     "traceback": [
      "\u001b[1;31m---------------------------------------------------------------------------\u001b[0m",
      "\u001b[1;31mTypeError\u001b[0m                                 Traceback (most recent call last)",
      "Cell \u001b[1;32mIn[2], line 1\u001b[0m\n\u001b[1;32m----> 1\u001b[0m \u001b[38;5;28;43mlen\u001b[39;49m\u001b[43m(\u001b[49m\u001b[43m)\u001b[49m\n",
      "\u001b[1;31mTypeError\u001b[0m: len() takes exactly one argument (0 given)"
     ]
    }
   ],
   "source": []
  },
  {
   "cell_type": "markdown",
   "metadata": {},
   "source": []
  }
 ],
 "metadata": {
  "kernelspec": {
   "display_name": "Python 3",
   "language": "python",
   "name": "python3"
  },
  "language_info": {
   "codemirror_mode": {
    "name": "ipython",
    "version": 3
   },
   "file_extension": ".py",
   "mimetype": "text/x-python",
   "name": "python",
   "nbconvert_exporter": "python",
   "pygments_lexer": "ipython3",
   "version": "3.12.4"
  }
 },
 "nbformat": 4,
 "nbformat_minor": 2
}
