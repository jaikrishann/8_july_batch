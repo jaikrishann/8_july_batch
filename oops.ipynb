{
 "cells": [
  {
   "cell_type": "code",
   "execution_count": null,
   "metadata": {},
   "outputs": [],
   "source": [
    "class Animal:\n",
    "    \n",
    "    #class variables \n",
    "    name = \"elephant\"\n",
    "    weight = 2000\n",
    "    age = 25 \n",
    "    # function vs method                   \n",
    "    def display(self):                                                \n",
    "        print(self.weight)\n",
    "\n",
    "    \n",
    "\n",
    "\n",
    "\n"
   ]
  }
 ],
 "metadata": {
  "language_info": {
   "name": "python"
  }
 },
 "nbformat": 4,
 "nbformat_minor": 2
}
