{
 "cells": [
  {
   "cell_type": "markdown",
   "metadata": {},
   "source": [
    "<!-- Jupyter Notebook and Google Colab (short for Colaboratory) are both tools used for interactive computing and data analysis, particularly in Python -->\n",
    "<!-- pip --version\n",
    "pip install notebook\n",
    "jupyter notebook\n",
    "pip install jupyterlab\n",
    "jupyter lab\n",
    "pip uninstall notebook -->\n"
   ]
  },
  {
   "cell_type": "markdown",
   "metadata": {},
   "source": [
    "# IF - ELSE statement\n",
    "#### conditional statements\n"
   ]
  },
  {
   "cell_type": "code",
   "execution_count": 7,
   "metadata": {},
   "outputs": [
    {
     "name": "stdout",
     "output_type": "stream",
     "text": [
      "condition is True\n"
     ]
    }
   ],
   "source": [
    "## IF \n",
    "a = 20                                          ##indentation\n",
    "b = 20 \n",
    "if a==b:\n",
    "    print('condition is True')                            \n",
    "\n"
   ]
  },
  {
   "cell_type": "code",
   "execution_count": 10,
   "metadata": {},
   "outputs": [
    {
     "name": "stdout",
     "output_type": "stream",
     "text": [
      "hello\n"
     ]
    }
   ],
   "source": [
    "##ELIF\n",
    "a = 30                                          ##indentation\n",
    "b = 20 \n",
    "if a==b:\n",
    "    print('condition is True')  \n",
    "elif b>a:\n",
    "    print(\"this condn works\")\n",
    "elif a>b:\n",
    "    print(\"hello\")"
   ]
  },
  {
   "cell_type": "code",
   "execution_count": 13,
   "metadata": {},
   "outputs": [
    {
     "name": "stdout",
     "output_type": "stream",
     "text": [
      "bye\n"
     ]
    }
   ],
   "source": [
    "##elseeee\n",
    "a = 30                                          ##indentation\n",
    "b = 20 \n",
    "if a==b:\n",
    "    print('condition is True')  \n",
    "elif b>a:\n",
    "    print(\"this condn works\")\n",
    "else:\n",
    "    print(\"bye\")"
   ]
  },
  {
   "cell_type": "code",
   "execution_count": 19,
   "metadata": {},
   "outputs": [
    {
     "name": "stdout",
     "output_type": "stream",
     "text": [
      "hi\n"
     ]
    }
   ],
   "source": [
    "#NEsted if\n",
    "x = 40 \n",
    "if x<10:\n",
    "    print(\"x is greater then 10\")\n",
    "    if x<20:\n",
    "        print(\"x is greater then 20\")\n",
    "    else:\n",
    "        print(\"hello\")\n",
    "else:\n",
    "    print(\"hi\")\n"
   ]
  },
  {
   "cell_type": "code",
   "execution_count": 22,
   "metadata": {},
   "outputs": [
    {
     "name": "stdout",
     "output_type": "stream",
     "text": [
      "cond is true\n"
     ]
    }
   ],
   "source": [
    "# AND , OR , NOT\n",
    "\n",
    "a = 200\n",
    "b = 20 \n",
    "c = 100\n",
    "if a>b and c<b:\n",
    "    print(\"cond is true\")\n",
    "\n"
   ]
  },
  {
   "cell_type": "code",
   "execution_count": 24,
   "metadata": {},
   "outputs": [
    {
     "name": "stdout",
     "output_type": "stream",
     "text": [
      "B\n"
     ]
    }
   ],
   "source": [
    "## short hand if \n",
    "\n",
    "\n",
    "a = 3 \n",
    "b = 300\n",
    "print('A') if a>b else print(\"B\")"
   ]
  },
  {
   "cell_type": "code",
   "execution_count": 29,
   "metadata": {},
   "outputs": [
    {
     "name": "stdout",
     "output_type": "stream",
     "text": [
      "B\n"
     ]
    }
   ],
   "source": [
    "a = 330\n",
    "b = 3303\n",
    "print(\"A\") if a>b else print(\"hi\") if a==b else print(\"B\")"
   ]
  },
  {
   "cell_type": "code",
   "execution_count": 41,
   "metadata": {},
   "outputs": [
    {
     "ename": "ValueError",
     "evalue": "invalid literal for int() with base 10: ''",
     "output_type": "error",
     "traceback": [
      "\u001b[1;31m---------------------------------------------------------------------------\u001b[0m",
      "\u001b[1;31mValueError\u001b[0m                                Traceback (most recent call last)",
      "Cell \u001b[1;32mIn[41], line 1\u001b[0m\n\u001b[1;32m----> 1\u001b[0m x \u001b[38;5;241m=\u001b[39m \u001b[38;5;28;43mint\u001b[39;49m\u001b[43m(\u001b[49m\u001b[38;5;28;43minput\u001b[39;49m\u001b[43m(\u001b[49m\u001b[38;5;124;43m\"\u001b[39;49m\u001b[38;5;124;43menter number\u001b[39;49m\u001b[38;5;124;43m\"\u001b[39;49m\u001b[43m)\u001b[49m\u001b[43m)\u001b[49m\n\u001b[0;32m      2\u001b[0m y \u001b[38;5;241m=\u001b[39m \u001b[38;5;28mint\u001b[39m(\u001b[38;5;28minput\u001b[39m(\u001b[38;5;124m\"\u001b[39m\u001b[38;5;124menetr number\u001b[39m\u001b[38;5;124m\"\u001b[39m))\n\u001b[0;32m      3\u001b[0m \u001b[38;5;28;01mif\u001b[39;00m x\u001b[38;5;241m!=\u001b[39my:\n",
      "\u001b[1;31mValueError\u001b[0m: invalid literal for int() with base 10: ''"
     ]
    }
   ],
   "source": [
    "x = int(input(\"enter number\"))\n",
    "y = int(input(\"enetr number\"))\n",
    "if x!=y:\n",
    "    print(\"hi\")\n",
    "else :\n",
    "    print(\"hello\")"
   ]
  },
  {
   "cell_type": "code",
   "execution_count": 22,
   "metadata": {},
   "outputs": [
    {
     "name": "stdout",
     "output_type": "stream",
     "text": [
      "haa bhai\n"
     ]
    }
   ],
   "source": [
    "a = 20 \n",
    "b = 10 \n",
    "if a==b:\n",
    "    print(\"hello\")\n",
    "elif b>a:\n",
    "    print(\"hey\")\n",
    "else:\n",
    "    # print(\"bye\")\n",
    "    if a>b:\n",
    "        print(\"haa bhai\")                                        #indentation\n"
   ]
  },
  {
   "cell_type": "code",
   "execution_count": null,
   "metadata": {},
   "outputs": [],
   "source": [
    "\n",
    "##elif \n",
    "##else\n"
   ]
  },
  {
   "cell_type": "code",
   "execution_count": 7,
   "metadata": {},
   "outputs": [
    {
     "name": "stdout",
     "output_type": "stream",
     "text": [
      "x is greater then 10\n",
      "hello\n"
     ]
    }
   ],
   "source": [
    "x = 40 \n",
    "if x>10:\n",
    "    print(\"x is greater then 10\")\n",
    "    if x<20:\n",
    "        print(\"x is greater then 20\")\n",
    "    else:\n",
    "        print(\"hello\")\n",
    "else:\n",
    "    print(\"hi\")"
   ]
  },
  {
   "cell_type": "code",
   "execution_count": null,
   "metadata": {},
   "outputs": [],
   "source": [
    "x= 50 \n",
    "if x>20:\n",
    "    print(\"heyy\")\n",
    "    if x>30:\n",
    "        print(\"byeeee\")\n",
    "    else:\n",
    "        print(\"jai\")\n",
    "        \n",
    "else:\n",
    "    print(\"haa bhai\")\n",
    "    "
   ]
  },
  {
   "cell_type": "code",
   "execution_count": 12,
   "metadata": {},
   "outputs": [],
   "source": [
    "a = 20 \n",
    "b = 20 \n",
    "if  not  a==b:\n",
    "    \n",
    "    print(\"hey\")"
   ]
  },
  {
   "cell_type": "code",
   "execution_count": 14,
   "metadata": {},
   "outputs": [
    {
     "name": "stdout",
     "output_type": "stream",
     "text": [
      "heyy\n"
     ]
    }
   ],
   "source": [
    "### short hand if \n",
    "a = 10 \n",
    "b = 100\n",
    "\n",
    "print(\"heyy\") if a<b else print(\"byeeee\")\n"
   ]
  },
  {
   "cell_type": "code",
   "execution_count": 24,
   "metadata": {},
   "outputs": [
    {
     "name": "stdout",
     "output_type": "stream",
     "text": [
      "hi\n"
     ]
    }
   ],
   "source": [
    "a = 3303\n",
    "b = 3303\n",
    "(print(\"A\") if a>b else print(\"hi\")) if a==b else print(\"B\")"
   ]
  },
  {
   "cell_type": "code",
   "execution_count": 29,
   "metadata": {},
   "outputs": [
    {
     "name": "stdout",
     "output_type": "stream",
     "text": [
      "11234\n",
      "<class 'int'>\n"
     ]
    }
   ],
   "source": [
    "#user input \n",
    "num1 = int(input(\"enter number:-\"))\n",
    "print(num1)\n",
    "print(type(num1))"
   ]
  },
  {
   "cell_type": "code",
   "execution_count": 32,
   "metadata": {},
   "outputs": [],
   "source": [
    "\n",
    "a = 20 \n",
    "b = 100\n",
    "if b>a:\n",
    "    pass"
   ]
  },
  {
   "cell_type": "code",
   "execution_count": 33,
   "metadata": {},
   "outputs": [
    {
     "name": "stdout",
     "output_type": "stream",
     "text": [
      "hey\n"
     ]
    }
   ],
   "source": [
    "letter = input('enter letter:-')\n",
    "if letter== \"a\"or letter==\"e\":\n",
    "    print('hey')\n",
    "else:\n",
    "    print(\"bye\")\n"
   ]
  },
  {
   "cell_type": "code",
   "execution_count": 34,
   "metadata": {},
   "outputs": [],
   "source": [
    "num1 = int(input(\"enter num\"))\n",
    "if num1%2==0:\n",
    "    pass"
   ]
  },
  {
   "cell_type": "code",
   "execution_count": null,
   "metadata": {},
   "outputs": [],
   "source": []
  }
 ],
 "metadata": {
  "kernelspec": {
   "display_name": "Python 3",
   "language": "python",
   "name": "python3"
  },
  "language_info": {
   "codemirror_mode": {
    "name": "ipython",
    "version": 3
   },
   "file_extension": ".py",
   "mimetype": "text/x-python",
   "name": "python",
   "nbconvert_exporter": "python",
   "pygments_lexer": "ipython3",
   "version": "3.12.4"
  }
 },
 "nbformat": 4,
 "nbformat_minor": 2
}
