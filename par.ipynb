{
 "cells": [
  {
   "cell_type": "markdown",
   "metadata": {},
   "source": [
    "# DICT"
   ]
  },
  {
   "cell_type": "markdown",
   "metadata": {},
   "source": [
    "#dict --> values stored in key:value, ordered, changeable and do not allow duplicate values."
   ]
  },
  {
   "cell_type": "code",
   "execution_count": 6,
   "metadata": {},
   "outputs": [
    {
     "name": "stdout",
     "output_type": "stream",
     "text": [
      "{'name': 'jai', 'branch': 'BBA', 'python': 'code', 'sports': 'basketball'}\n",
      "<class 'dict'>\n",
      "4\n"
     ]
    }
   ],
   "source": [
    "dt = {\n",
    "    \"name\" : \"jai\",\n",
    "    \"branch\" : \"cse\",\n",
    "    \"python\" : \"code\",\n",
    "    \"branch\" : \"IT\",\n",
    "    \"branch\" : \"BBA\",\n",
    "    \"sports\" : \"basketball\"\n",
    "    }\n",
    "\n",
    "print(dt)\n",
    "print(type(dt))\n",
    "print(len(dt))"
   ]
  },
  {
   "cell_type": "code",
   "execution_count": 9,
   "metadata": {},
   "outputs": [
    {
     "name": "stdout",
     "output_type": "stream",
     "text": [
      "{'name': ['jai', 'ram'], 'branch': {'it', 'Bio', 'cse'}, 'python': 'code', 'sports': 'basketball'}\n"
     ]
    }
   ],
   "source": [
    "dt = {\n",
    "    \"name\" : [\"jai\",\"ram\"],\n",
    "    \"branch\" : {\"cse\",\"it\",\"Bio\"},\n",
    "    \"python\" : \"code\",\n",
    "    \"sports\" : \"basketball\"      \n",
    "    }\n",
    "\n",
    "print(dt)"
   ]
  },
  {
   "cell_type": "code",
   "execution_count": 10,
   "metadata": {},
   "outputs": [
    {
     "name": "stdout",
     "output_type": "stream",
     "text": [
      "<class 'dict'>\n"
     ]
    }
   ],
   "source": [
    "## dict consturctor\n",
    "dt = dict(name = \"jai\",branch = \"IT\",year = 2020)\n",
    "print(type(dt))\n"
   ]
  },
  {
   "cell_type": "code",
   "execution_count": 20,
   "metadata": {},
   "outputs": [
    {
     "name": "stdout",
     "output_type": "stream",
     "text": [
      "dict_values(['jai', 'cse', 'code', 'basketball'])\n"
     ]
    }
   ],
   "source": [
    "dt = {\n",
    "    \"name\" : \"jai\",\n",
    "    \"branch\" : \"cse\",\n",
    "    \"python\" : \"code\",\n",
    "    \"sports\" : \"basketball\"      \n",
    "    }\n",
    "# x = dt[\"branch\"]\n",
    "# x = dt[\"name\"]\n",
    "# x = dt.get(\"name\")\n",
    "# x = dt.items()\n",
    "# x = dt.keys()\n",
    "# x= dt.values()\n",
    "x = dt.\n",
    "print(x)"
   ]
  },
  {
   "cell_type": "code",
   "execution_count": null,
   "metadata": {},
   "outputs": [],
   "source": []
  }
 ],
 "metadata": {
  "kernelspec": {
   "display_name": "Python 3",
   "language": "python",
   "name": "python3"
  },
  "language_info": {
   "codemirror_mode": {
    "name": "ipython",
    "version": 3
   },
   "file_extension": ".py",
   "mimetype": "text/x-python",
   "name": "python",
   "nbconvert_exporter": "python",
   "pygments_lexer": "ipython3",
   "version": "3.12.4"
  }
 },
 "nbformat": 4,
 "nbformat_minor": 2
}
