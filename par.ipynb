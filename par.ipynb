{
 "cells": [
  {
   "cell_type": "markdown",
   "metadata": {},
   "source": [
    "# DICT"
   ]
  },
  {
   "cell_type": "markdown",
   "metadata": {},
   "source": [
    "#dict --> values stored in key:value, ordered, changeable and do not allow duplicate values."
   ]
  },
  {
   "cell_type": "code",
   "execution_count": 6,
   "metadata": {},
   "outputs": [
    {
     "name": "stdout",
     "output_type": "stream",
     "text": [
      "{'name': 'jai', 'branch': 'BBA', 'python': 'code', 'sports': 'basketball'}\n",
      "<class 'dict'>\n",
      "4\n"
     ]
    }
   ],
   "source": [
    "dt = {\n",
    "    \"name\" : \"jai\",\n",
    "    \"branch\" : \"cse\",\n",
    "    \"python\" : \"code\",\n",
    "    \"branch\" : \"IT\",\n",
    "    \"branch\" : \"BBA\",\n",
    "    \"sports\" : \"basketball\"\n",
    "    }\n",
    "\n",
    "print(dt)\n",
    "print(type(dt))\n",
    "print(len(dt))"
   ]
  },
  {
   "cell_type": "code",
   "execution_count": 9,
   "metadata": {},
   "outputs": [
    {
     "name": "stdout",
     "output_type": "stream",
     "text": [
      "{'name': ['jai', 'ram'], 'branch': {'it', 'Bio', 'cse'}, 'python': 'code', 'sports': 'basketball'}\n"
     ]
    }
   ],
   "source": [
    "dt = {\n",
    "    \"name\" : [\"jai\",\"ram\"],\n",
    "    \"branch\" : {\"cse\",\"it\",\"Bio\"},\n",
    "    \"python\" : \"code\",\n",
    "    \"sports\" : \"basketball\"      \n",
    "    }\n",
    "\n",
    "print(dt)"
   ]
  },
  {
   "cell_type": "code",
   "execution_count": 10,
   "metadata": {},
   "outputs": [
    {
     "name": "stdout",
     "output_type": "stream",
     "text": [
      "<class 'dict'>\n"
     ]
    }
   ],
   "source": [
    "## dict consturctor\n",
    "dt = dict(name = \"jai\",branch = \"IT\",year = 2020)\n",
    "print(type(dt))\n"
   ]
  },
  {
   "cell_type": "code",
   "execution_count": 20,
   "metadata": {},
   "outputs": [
    {
     "name": "stdout",
     "output_type": "stream",
     "text": [
      "dict_values(['jai', 'cse', 'code', 'basketball'])\n"
     ]
    }
   ],
   "source": [
    "dt = {\n",
    "    \"name\" : \"jai\",\n",
    "    \"branch\" : \"cse\",\n",
    "    \"python\" : \"code\",\n",
    "    \"sports\" : \"basketball\"      \n",
    "    }\n",
    "# x = dt[\"branch\"]\n",
    "# x = dt[\"name\"]\n",
    "# x = dt.get(\"name\")\n",
    "# x = dt.items()\n",
    "# x = dt.keys()\n",
    "# x= dt.values()\n",
    "x = dt\n",
    "print(x)"
   ]
  },
  {
   "cell_type": "code",
   "execution_count": 1,
   "metadata": {},
   "outputs": [],
   "source": [
    "def jai():\n",
    "    print(\"my name is jai\")\n"
   ]
  },
  {
   "cell_type": "code",
   "execution_count": 2,
   "metadata": {},
   "outputs": [
    {
     "name": "stdout",
     "output_type": "stream",
     "text": [
      "my name is jai\n"
     ]
    }
   ],
   "source": [
    "jai()"
   ]
  },
  {
   "cell_type": "code",
   "execution_count": 5,
   "metadata": {},
   "outputs": [],
   "source": [
    "def name(fname):\n",
    "    print(fname + \" sharma\")"
   ]
  },
  {
   "cell_type": "code",
   "execution_count": 6,
   "metadata": {},
   "outputs": [
    {
     "name": "stdout",
     "output_type": "stream",
     "text": [
      "mohan sharma\n"
     ]
    }
   ],
   "source": [
    "name(\"mohan\")"
   ]
  },
  {
   "cell_type": "code",
   "execution_count": 7,
   "metadata": {},
   "outputs": [],
   "source": [
    "def add():\n",
    "    num1 = 10 \n",
    "    num2=  200\n",
    "    result = num1 + num2 \n",
    "    print(result)"
   ]
  },
  {
   "cell_type": "code",
   "execution_count": 8,
   "metadata": {},
   "outputs": [
    {
     "name": "stdout",
     "output_type": "stream",
     "text": [
      "210\n"
     ]
    }
   ],
   "source": [
    "add()"
   ]
  },
  {
   "cell_type": "code",
   "execution_count": 48,
   "metadata": {},
   "outputs": [],
   "source": [
    "def add1(num1 ,num2,num3,num4=1):\n",
    "    print(num1+num2+num3+num4)"
   ]
  },
  {
   "cell_type": "code",
   "execution_count": 51,
   "metadata": {},
   "outputs": [
    {
     "name": "stdout",
     "output_type": "stream",
     "text": [
      "150\n"
     ]
    }
   ],
   "source": [
    "add1(10,20,20,100)"
   ]
  },
  {
   "cell_type": "code",
   "execution_count": 24,
   "metadata": {},
   "outputs": [
    {
     "name": "stdout",
     "output_type": "stream",
     "text": [
      "this is my youngest child sohan\n"
     ]
    }
   ],
   "source": [
    "## arbitary arguments (*args)\n",
    "def child(*kids):\n",
    "    print(\"this is my youngest child \" + kids[2])\n",
    "\n",
    "\n",
    "child('ram',\"mohan\",\"sohan\",\"ramesh\")"
   ]
  },
  {
   "cell_type": "code",
   "execution_count": 32,
   "metadata": {},
   "outputs": [],
   "source": [
    "#keyword arguments\n",
    "def childs(child1,child2,child3):\n",
    "    print(\"this is my oldest child \" + child1)"
   ]
  },
  {
   "cell_type": "code",
   "execution_count": 34,
   "metadata": {},
   "outputs": [
    {
     "name": "stdout",
     "output_type": "stream",
     "text": [
      "this is my oldest child mohan\n"
     ]
    }
   ],
   "source": [
    "childs(child3=\"ram\",child1=\"mohan\",child2=\"ramesh\")"
   ]
  },
  {
   "cell_type": "code",
   "execution_count": 35,
   "metadata": {},
   "outputs": [],
   "source": [
    "## Arbitrary Keyword Arguments (**kwargs)"
   ]
  },
  {
   "cell_type": "code",
   "execution_count": 38,
   "metadata": {},
   "outputs": [
    {
     "name": "stdout",
     "output_type": "stream",
     "text": [
      "name: Alice\n",
      "age: 30\n",
      "city: New York\n"
     ]
    }
   ],
   "source": [
    "def print_details(**details):\n",
    "    for key, value in details.items():\n",
    "        print(f\"{key}: {value}\")\n",
    "\n",
    "print_details(name=\"Alice\", age=30, city=\"New York\")\n"
   ]
  },
  {
   "cell_type": "code",
   "execution_count": 44,
   "metadata": {},
   "outputs": [],
   "source": [
    "## default parameter value \n",
    "def country(name=\"India\"):\n",
    "    print(\"i am from \" + name)"
   ]
  },
  {
   "cell_type": "code",
   "execution_count": 47,
   "metadata": {},
   "outputs": [
    {
     "name": "stdout",
     "output_type": "stream",
     "text": [
      "i am from China\n",
      "i am from USA\n",
      "i am from India\n"
     ]
    }
   ],
   "source": [
    "\n",
    "country(\"China\")\n",
    "country(\"USA\")\n",
    "country()"
   ]
  },
  {
   "cell_type": "code",
   "execution_count": null,
   "metadata": {},
   "outputs": [],
   "source": []
  }
 ],
 "metadata": {
  "kernelspec": {
   "display_name": "Python 3",
   "language": "python",
   "name": "python3"
  },
  "language_info": {
   "codemirror_mode": {
    "name": "ipython",
    "version": 3
   },
   "file_extension": ".py",
   "mimetype": "text/x-python",
   "name": "python",
   "nbconvert_exporter": "python",
   "pygments_lexer": "ipython3",
   "version": "3.12.4"
  }
 },
 "nbformat": 4,
 "nbformat_minor": 2
}
