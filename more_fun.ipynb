{
 "cells": [
  {
   "cell_type": "code",
   "execution_count": 2,
   "metadata": {},
   "outputs": [
    {
     "data": {
      "text/plain": [
       "8"
      ]
     },
     "execution_count": 2,
     "metadata": {},
     "output_type": "execute_result"
    }
   ],
   "source": [
    "### map , reduce and filter \n",
    "\n",
    "#1 --> map()\n",
    "# Purpose: map applies a given function to each item of an iterable (like a list) and returns a list of the results.\n",
    "def cube(x):\n",
    "    return x*x*x\n",
    "\n",
    "cube(2)"
   ]
  },
  {
   "cell_type": "code",
   "execution_count": 4,
   "metadata": {},
   "outputs": [
    {
     "name": "stdout",
     "output_type": "stream",
     "text": [
      "[8, 27, 64, 125, 216, 343, 512]\n"
     ]
    }
   ],
   "source": [
    "lst = [2,3,4,5,6,7,8]\n",
    "newlst = []\n",
    "\n",
    "for i in lst:\n",
    "    newlst.append(cube(i))\n",
    "print(newlst)\n"
   ]
  },
  {
   "cell_type": "code",
   "execution_count": 5,
   "metadata": {},
   "outputs": [
    {
     "name": "stdout",
     "output_type": "stream",
     "text": [
      "[8, 27, 64, 125, 216, 343, 512]\n"
     ]
    }
   ],
   "source": [
    "newlst = list(map(cube,lst)) \n",
    "print(newlst)"
   ]
  },
  {
   "cell_type": "code",
   "execution_count": null,
   "metadata": {},
   "outputs": [],
   "source": [
    "### lambda function   --> is a small anonymous function\n",
    "#syn --> lambda arguements : expression \n"
   ]
  },
  {
   "cell_type": "code",
   "execution_count": 6,
   "metadata": {},
   "outputs": [
    {
     "name": "stdout",
     "output_type": "stream",
     "text": [
      "15\n"
     ]
    }
   ],
   "source": [
    "x = lambda a : a + 10 \n",
    "print(x(5))"
   ]
  },
  {
   "cell_type": "code",
   "execution_count": 9,
   "metadata": {},
   "outputs": [
    {
     "name": "stdout",
     "output_type": "stream",
     "text": [
      "6\n"
     ]
    }
   ],
   "source": [
    "x = lambda a,b : a*b\n",
    "print(x(2,3))"
   ]
  },
  {
   "cell_type": "code",
   "execution_count": 11,
   "metadata": {},
   "outputs": [
    {
     "name": "stdout",
     "output_type": "stream",
     "text": [
      "100\n"
     ]
    }
   ],
   "source": [
    "x = lambda a,b,c : a+b+c\n",
    "\n",
    "print(x(20,30,50))"
   ]
  },
  {
   "cell_type": "code",
   "execution_count": 23,
   "metadata": {},
   "outputs": [
    {
     "name": "stdout",
     "output_type": "stream",
     "text": [
      "22\n",
      "33\n"
     ]
    }
   ],
   "source": [
    "def multiply(n):\n",
    "    return lambda a :a*n\n",
    "\n",
    "\n",
    "mydoubler = multiply(2)\n",
    "print(mydoubler(11))\n",
    "\n",
    "mytripler = multiply(3)\n",
    "print(mytripler(11))"
   ]
  },
  {
   "cell_type": "code",
   "execution_count": 24,
   "metadata": {},
   "outputs": [
    {
     "name": "stdout",
     "output_type": "stream",
     "text": [
      "[8, 27, 64, 125, 216, 343, 512]\n"
     ]
    }
   ],
   "source": [
    "newlst = list(map(lambda x: x*x*x ,lst)) \n",
    "print(newlst)"
   ]
  },
  {
   "cell_type": "code",
   "execution_count": 34,
   "metadata": {},
   "outputs": [
    {
     "name": "stdout",
     "output_type": "stream",
     "text": [
      "[4, 4, 9]\n"
     ]
    }
   ],
   "source": [
    "##filter \n",
    "lst = [2,3,4,2,1,4,2,9]                                 #[6,4,2,1,4,2,9]\n",
    "                                                        #[10,2,1,4,2,9]  ---[12,1,4,2,9] ---[13,4,2,9]---[17,2,9]--[19,9]--[28]\n",
    "def filter_fun(a):\n",
    "    return a>3\n",
    "\n",
    "\n",
    "result = list(filter(filter_fun,lst))\n",
    "print(result)"
   ]
  },
  {
   "cell_type": "code",
   "execution_count": 38,
   "metadata": {},
   "outputs": [
    {
     "name": "stdout",
     "output_type": "stream",
     "text": [
      "15\n"
     ]
    }
   ],
   "source": [
    "### reduce\n",
    "\n",
    "\n",
    "# Purpose: reduce applies a given function cumulatively to the items of an\n",
    "# iterable, from left to right, so as to reduce the iterable to a single value. \n",
    "# Unlike map and filter, reduce is not a built-in function in Python 3 and \n",
    "# needs to be imported from the functools module.\n",
    "\n",
    "\n",
    "\n",
    "\n",
    "from functools import reduce\n",
    "\n",
    "# Function to add two numbers\n",
    "def add(x, y):\n",
    "    return x + y\n",
    "\n",
    "numbers = [1, 2, 3, 4, 5]\n",
    "sum_of_numbers = reduce(add, numbers)\n",
    "print(sum_of_numbers)\n",
    "# Output: 15\n",
    "\n"
   ]
  },
  {
   "cell_type": "code",
   "execution_count": 46,
   "metadata": {},
   "outputs": [
    {
     "name": "stdout",
     "output_type": "stream",
     "text": [
      "56\n"
     ]
    }
   ],
   "source": [
    "numbers = [1,2,3,4,5,6]\n",
    "\n",
    "\n",
    "#step 1 = filter to get even numbers\n",
    "evens = filter(lambda a : a%2==0, numbers)\n",
    "\n",
    "#step2 = map to get the squares of the even number \n",
    "square = map( lambda x : x**2,evens)\n",
    "\n",
    "#step3 = reduce to get the sum of the square\n",
    "sum_of_squares = reduce(lambda x  , y :x+y,square)\n",
    "print(sum_of_squares)"
   ]
  },
  {
   "cell_type": "markdown",
   "metadata": {},
   "source": [
    "# Execption handling"
   ]
  },
  {
   "cell_type": "code",
   "execution_count": null,
   "metadata": {},
   "outputs": [],
   "source": [
    "2 types of error:\n",
    "\n",
    "a - syntax error \n",
    "b - execption --> exceptions are raised when some internal events occur which change the normal flow of the program\n",
    "\n",
    "\n",
    "try , except,else,finally\n",
    "\n",
    "try:\n",
    "    # Some Code.... \n",
    "\n",
    "except:\n",
    "    # optional block\n",
    "    # Handling of exception (if required)\n",
    "\n",
    "else:\n",
    "    # execute if no exception\n",
    "\n",
    "finally:\n",
    "    # Some code .....(always executed)"
   ]
  }
 ],
 "metadata": {
  "kernelspec": {
   "display_name": "Python 3",
   "language": "python",
   "name": "python3"
  },
  "language_info": {
   "codemirror_mode": {
    "name": "ipython",
    "version": 3
   },
   "file_extension": ".py",
   "mimetype": "text/x-python",
   "name": "python",
   "nbconvert_exporter": "python",
   "pygments_lexer": "ipython3",
   "version": "3.12.4"
  }
 },
 "nbformat": 4,
 "nbformat_minor": 2
}
