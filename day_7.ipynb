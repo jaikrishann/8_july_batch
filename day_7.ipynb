{
 "cells": [
  {
   "cell_type": "code",
   "execution_count": 1,
   "metadata": {},
   "outputs": [
    {
     "name": "stdout",
     "output_type": "stream",
     "text": [
      "12  * 1  = 12\n",
      "12  * 2  = 24\n",
      "12  * 3  = 36\n",
      "12  * 4  = 48\n",
      "12  * 5  = 60\n",
      "12  * 6  = 72\n",
      "12  * 7  = 84\n",
      "12  * 8  = 96\n",
      "12  * 9  = 108\n",
      "12  * 10  = 120\n"
     ]
    }
   ],
   "source": [
    "y = int(input(\"enter number\"))\n",
    "for i in range(1,11):            \n",
    "   print(f\"{y}  * {i}  = {y*i }\"  )"
   ]
  },
  {
   "cell_type": "markdown",
   "metadata": {},
   "source": [
    "# While loop"
   ]
  },
  {
   "cell_type": "code",
   "execution_count": 1,
   "metadata": {},
   "outputs": [
    {
     "name": "stdout",
     "output_type": "stream",
     "text": [
      "1\n",
      "2\n",
      "3\n",
      "4\n",
      "5\n",
      "6\n",
      "7\n",
      "8\n",
      "9\n",
      "10\n"
     ]
    }
   ],
   "source": [
    "i = 1\n",
    "while i<=10:\n",
    "    print(i)\n",
    "    i +=1                   #i= i+1\n"
   ]
  },
  {
   "cell_type": "code",
   "execution_count": 7,
   "metadata": {},
   "outputs": [
    {
     "name": "stdout",
     "output_type": "stream",
     "text": [
      "5 - 7 - 10 - 14 - 15 - 20 - 21 - 25 - 28 - 30 - 35 - 40 - 42 - 45 - 49 - 50 - "
     ]
    }
   ],
   "source": [
    "#while loop on multiple condn\n",
    "i=1  \n",
    "while i<51:     \n",
    "    if i%5 == 0 or i%7==0 :  \n",
    "        print(i ,end=\" - \")  \n",
    "    i+=1  \n",
    "\n",
    "\n"
   ]
  },
  {
   "cell_type": "code",
   "execution_count": 8,
   "metadata": {},
   "outputs": [
    {
     "name": "stdout",
     "output_type": "stream",
     "text": [
      "It is an odd number 3\n",
      "It is an even number 4\n",
      "It is an even number 8\n",
      "It is an even number 10\n",
      "It is an even number 34\n",
      "It is an odd number 45\n",
      "It is an odd number 67\n",
      "It is an even number 80\n"
     ]
    }
   ],
   "source": [
    "list_ = [3, 4, 8, 10, 34, 45, 67,80]      \n",
    "index = 0  \n",
    "while index < len(list_):  \n",
    "    element = list_[index]  \n",
    "    \n",
    "    if element % 2 == 0:  \n",
    "        print('It is an even number',element)      \n",
    "    else:  \n",
    "        print('It is an odd number',element)         \n",
    "    index += 1  "
   ]
  },
  {
   "cell_type": "code",
   "execution_count": 22,
   "metadata": {},
   "outputs": [
    {
     "name": "stdout",
     "output_type": "stream",
     "text": [
      "5\n",
      "3\n",
      "4\n",
      "2\n"
     ]
    },
    {
     "data": {
      "text/plain": [
       "4"
      ]
     },
     "execution_count": 22,
     "metadata": {},
     "output_type": "execute_result"
    }
   ],
   "source": [
    "lst = ['apple',\"cow\",\"tree\",\"to\"]\n",
    "index = 0\n",
    "while index < len(lst):\n",
    "    element = lst[index]\n",
    "    print(len(element))\n",
    "    index+=1"
   ]
  },
  {
   "cell_type": "markdown",
   "metadata": {},
   "source": [
    "# functions\n",
    "2 types of function :\n",
    "\n",
    "  1- built in\n",
    "  \n",
    "  2- user defined\n",
    "  "
   ]
  },
  {
   "cell_type": "code",
   "execution_count": 8,
   "metadata": {},
   "outputs": [
    {
     "name": "stdout",
     "output_type": "stream",
     "text": [
      "hello from function\n"
     ]
    }
   ],
   "source": [
    "def hello():\n",
    "    print(\"hello from function\")\n",
    "\n",
    "\n",
    "\n",
    "\n",
    "                              #--> calling a function"
   ]
  },
  {
   "cell_type": "code",
   "execution_count": 9,
   "metadata": {},
   "outputs": [
    {
     "name": "stdout",
     "output_type": "stream",
     "text": [
      "hello from function\n"
     ]
    }
   ],
   "source": [
    "hello()"
   ]
  },
  {
   "cell_type": "code",
   "execution_count": 11,
   "metadata": {},
   "outputs": [
    {
     "name": "stdout",
     "output_type": "stream",
     "text": [
      "mohan sharma\n"
     ]
    }
   ],
   "source": [
    "def name(fname):\n",
    "    print(fname + \" sharma\")\n",
    "\n",
    "\n",
    "name(\"mohan\")"
   ]
  },
  {
   "cell_type": "code",
   "execution_count": 25,
   "metadata": {},
   "outputs": [],
   "source": [
    "def add():\n",
    "    num1 = 10\n",
    "    num2 = 30\n",
    "    result = num1 + num2\n",
    "    print(result)\n"
   ]
  },
  {
   "cell_type": "code",
   "execution_count": 28,
   "metadata": {},
   "outputs": [
    {
     "name": "stdout",
     "output_type": "stream",
     "text": [
      "40\n"
     ]
    }
   ],
   "source": [
    "add()"
   ]
  },
  {
   "cell_type": "code",
   "execution_count": 34,
   "metadata": {},
   "outputs": [],
   "source": [
    "### number of arguments:\n",
    "def addd(num1,num2,num3):\n",
    "    result = num1 + num2 + num3\n",
    "    print(result)"
   ]
  },
  {
   "cell_type": "code",
   "execution_count": 35,
   "metadata": {},
   "outputs": [
    {
     "name": "stdout",
     "output_type": "stream",
     "text": [
      "956859\n"
     ]
    }
   ],
   "source": [
    "addd(956789,50,20)"
   ]
  },
  {
   "cell_type": "code",
   "execution_count": 36,
   "metadata": {},
   "outputs": [],
   "source": [
    "### arbitary arguments    *args\n",
    "def childens(*kids):\n",
    "    print(\"the youngest child is \" + kids[2])"
   ]
  },
  {
   "cell_type": "code",
   "execution_count": 38,
   "metadata": {},
   "outputs": [
    {
     "name": "stdout",
     "output_type": "stream",
     "text": [
      "the youngest child is shyam\n"
     ]
    }
   ],
   "source": [
    "childens(\"RAM\",\"Mohan\",\"shyam\",\"rohit\")"
   ]
  },
  {
   "cell_type": "code",
   "execution_count": 40,
   "metadata": {},
   "outputs": [
    {
     "name": "stdout",
     "output_type": "stream",
     "text": [
      "the youngest child is Mohan\n"
     ]
    }
   ],
   "source": [
    "## keyword arguments          **kwargs\n",
    "def my_function(child1,child2, child3):\n",
    "    print(\"the youngest child is \" + child3)\n",
    "\n",
    "\n",
    "my_function(child3=\"Mohan\",child2 = \"rohan\",child1 = \"Rohit\")\n"
   ]
  },
  {
   "cell_type": "code",
   "execution_count": null,
   "metadata": {},
   "outputs": [],
   "source": []
  },
  {
   "cell_type": "code",
   "execution_count": 42,
   "metadata": {},
   "outputs": [
    {
     "name": "stdout",
     "output_type": "stream",
     "text": [
      "I am from sweden\n",
      "I am from India\n",
      "I am from norway\n"
     ]
    }
   ],
   "source": [
    "### default parameter value\n",
    "def country(name = \"norway\"):\n",
    "    print(\"I am from \" + name)\n",
    "\n",
    "\n",
    "country(\"sweden\")\n",
    "country(\"India\")\n",
    "country()\n"
   ]
  },
  {
   "cell_type": "code",
   "execution_count": 2,
   "metadata": {},
   "outputs": [
    {
     "name": "stdout",
     "output_type": "stream",
     "text": [
      "a = 1\n",
      "b = 2\n",
      "c = 3\n"
     ]
    }
   ],
   "source": [
    "##arbitary keyword arguements\n",
    "def example_function(**kwargs):\n",
    "    for key, value in kwargs.items():\n",
    "        print(f\"{key} = {value}\")\n",
    "\n",
    "example_function(a=1, b=2, c=3)\n",
    "\n"
   ]
  },
  {
   "cell_type": "code",
   "execution_count": 10,
   "metadata": {},
   "outputs": [
    {
     "name": "stdout",
     "output_type": "stream",
     "text": [
      "their last name is Ram\n"
     ]
    }
   ],
   "source": [
    "def child(**kids):\n",
    "    print(\"their last name is \" + kids[\"fname\"])\n",
    "\n",
    "child(lname = \"pandey\",fname=\"Ram\")\n"
   ]
  },
  {
   "cell_type": "code",
   "execution_count": 12,
   "metadata": {},
   "outputs": [],
   "source": [
    "def square_element(input_list):\n",
    "    temp = []\n",
    "    for x in input_list:\n",
    "        temp.append(x**2)\n",
    "    return temp"
   ]
  },
  {
   "cell_type": "code",
   "execution_count": 19,
   "metadata": {},
   "outputs": [
    {
     "data": {
      "text/plain": [
       "4"
      ]
     },
     "execution_count": 19,
     "metadata": {},
     "output_type": "execute_result"
    }
   ],
   "source": [
    "min(output)"
   ]
  },
  {
   "cell_type": "code",
   "execution_count": 18,
   "metadata": {},
   "outputs": [
    {
     "name": "stdout",
     "output_type": "stream",
     "text": [
      "[4, 9, 16, 25, 36, 49]\n"
     ]
    }
   ],
   "source": [
    "output = square_element([2,3,4,5,6,7])\n",
    "print(output)"
   ]
  },
  {
   "cell_type": "code",
   "execution_count": null,
   "metadata": {},
   "outputs": [],
   "source": [
    "##### create our own min() function"
   ]
  },
  {
   "cell_type": "code",
   "execution_count": 10,
   "metadata": {},
   "outputs": [
    {
     "name": "stdout",
     "output_type": "stream",
     "text": [
      "37.0\n"
     ]
    }
   ],
   "source": [
    "def avg_function(input_list):\n",
    "    return sum(input_list)/len(input_list)\n",
    "\n",
    "output = avg_function([45,2,34,67])\n",
    "print(output)"
   ]
  },
  {
   "cell_type": "code",
   "execution_count": null,
   "metadata": {},
   "outputs": [],
   "source": [
    "#List comprehensions provide a concise way to create lists in Python.\n",
    "#  They are generally more compact and faster than traditional loops for creating lists.\n",
    "\n",
    "\n",
    "# [expression for item in iterable if condition]\n",
    "\n",
    "# expression: The value to add to the list.\n",
    "# item: The variable representing the current item from the iterable.\n",
    "# iterable: The collection to iterate over (e.g., list, range, string).\n",
    "# condition (optional): A filter that selects which items to include.\n"
   ]
  },
  {
   "cell_type": "code",
   "execution_count": 12,
   "metadata": {},
   "outputs": [
    {
     "name": "stdout",
     "output_type": "stream",
     "text": [
      "[4, 9, 16, 25, 36, 49, 64]\n"
     ]
    }
   ],
   "source": [
    "numbers = [2,3,4,5,6,7,8]\n",
    "sq_numbers = [i**2 for i in numbers]\n",
    "print(sq_numbers)"
   ]
  },
  {
   "cell_type": "code",
   "execution_count": 13,
   "metadata": {},
   "outputs": [
    {
     "name": "stdout",
     "output_type": "stream",
     "text": [
      "[2, 4, 6, 8, 26, 78, 90]\n"
     ]
    }
   ],
   "source": [
    "lst = [1,2,3,4,5,6,7,8,9,23,26,78,90]\n",
    "even_number = [i for i in lst if i%2==0 ]\n",
    "print(even_number)"
   ]
  },
  {
   "cell_type": "code",
   "execution_count": 14,
   "metadata": {},
   "outputs": [
    {
     "name": "stdout",
     "output_type": "stream",
     "text": [
      "[1, 2, 3, 4, 5, 6, 7, 8, 9]\n"
     ]
    }
   ],
   "source": [
    "###flattening a list \n",
    "lst = [[1,2,3],[4,5,6],[7,8,9]]                      # output = [1,2,3,4,5,6,7,8,9]\n",
    "flatten_list = [i for sublist in lst for i in sublist ]\n",
    "print(flatten_list)"
   ]
  },
  {
   "cell_type": "code",
   "execution_count": 15,
   "metadata": {},
   "outputs": [
    {
     "name": "stdout",
     "output_type": "stream",
     "text": [
      "[1, 2, 3, 4, 5]\n"
     ]
    }
   ],
   "source": [
    "strings = ['1','2','3','4','5']\n",
    "lst = [int(i) for i in strings]\n",
    "print(lst)"
   ]
  },
  {
   "cell_type": "code",
   "execution_count": 16,
   "metadata": {},
   "outputs": [
    {
     "data": {
      "text/plain": [
       "['My', 'name', 'is', 'jai']"
      ]
     },
     "execution_count": 16,
     "metadata": {},
     "output_type": "execute_result"
    }
   ],
   "source": [
    "list1 = [\"M\",\"na\",\"i\",\"ja\"]                      #output = [\"My\",\"name\",\"is\",\"jai\"]\n",
    "list2 = [\"y\",\"me\",\"s\",\"i\"]\n",
    "\n",
    "list3 = [i+j for i,j in zip(list1,list2)]\n",
    "list3\n",
    "\n",
    "#The zip function in Python is used to combine multiple iterables (e.g., lists, tuples) element-wise into tuples. \n",
    "# This can be very useful for iterating over multiple sequences in parallel."
   ]
  },
  {
   "cell_type": "code",
   "execution_count": null,
   "metadata": {},
   "outputs": [],
   "source": []
  }
 ],
 "metadata": {
  "kernelspec": {
   "display_name": "Python 3",
   "language": "python",
   "name": "python3"
  },
  "language_info": {
   "codemirror_mode": {
    "name": "ipython",
    "version": 3
   },
   "file_extension": ".py",
   "mimetype": "text/x-python",
   "name": "python",
   "nbconvert_exporter": "python",
   "pygments_lexer": "ipython3",
   "version": "3.12.4"
  }
 },
 "nbformat": 4,
 "nbformat_minor": 2
}
