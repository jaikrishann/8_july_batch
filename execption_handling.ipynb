{
 "cells": [
  {
   "cell_type": "code",
   "execution_count": 5,
   "metadata": {},
   "outputs": [
    {
     "name": "stdout",
     "output_type": "stream",
     "text": [
      "error: division by zero\n",
      "jai shree ram\n"
     ]
    }
   ],
   "source": [
    "try:\n",
    "    result = 10/0\n",
    "except Exception as e: \n",
    "    print(f\"error: {e}\")\n",
    "\n",
    "else:\n",
    "    print(\"division is successful\")\n",
    "finally:\n",
    "    print(\"jai shree ram\")\n",
    "\n",
    "    \n",
    "\n"
   ]
  },
  {
   "cell_type": "code",
   "execution_count": 3,
   "metadata": {},
   "outputs": [
    {
     "name": "stdout",
     "output_type": "stream",
     "text": [
      "the result is  7\n"
     ]
    }
   ],
   "source": [
    "num1 = int(input(\"enter number 1\"))\n",
    "num2 = int(input(\"enetr number 2\"))\n",
    "try:\n",
    "    result = num1/num2\n",
    "    print(\"the result is \", result)\n",
    "except Exception as e:\n",
    "    print(f\"error: {e}\")\n",
    "\n",
    "# else:\n",
    "#     print(\"division is successful\")\n",
    "# finally:\n",
    "#     print(\"jai shree ram\")\n",
    "\n"
   ]
  },
  {
   "cell_type": "code",
   "execution_count": 14,
   "metadata": {},
   "outputs": [
    {
     "name": "stdout",
     "output_type": "stream",
     "text": [
      "outer error: division by zero\n",
      "byeee\n"
     ]
    }
   ],
   "source": [
    "try:\n",
    "    result = 10 /0\n",
    "    print('outer block')\n",
    "    try:    \n",
    "        print(\"inner except block\")\n",
    "\n",
    "        result = 10 /0\n",
    "    except Exception as e:\n",
    "        print(f\"error : {e}\")\n",
    "    finally:\n",
    "        print('hello')\n",
    "except Exception as e :\n",
    "    print(f\"outer error: {e}\")\n",
    "finally:\n",
    "    print(\"byeee\")\n"
   ]
  },
  {
   "cell_type": "code",
   "execution_count": 19,
   "metadata": {},
   "outputs": [
    {
     "name": "stdout",
     "output_type": "stream",
     "text": [
      "error : list index out of range\n",
      "jai shree ram \n"
     ]
    }
   ],
   "source": [
    "lst = [1,2,3]\n",
    "\n",
    "try:\n",
    "    print(lst[3])\n",
    "except Exception as e:\n",
    "    print(f\"error : {e}\")\n",
    "else :\n",
    "    print(\"successfully \")\n",
    "\n",
    "finally:\n",
    "    print (\"jai shree ram \")\n",
    "    "
   ]
  },
  {
   "cell_type": "code",
   "execution_count": null,
   "metadata": {},
   "outputs": [],
   "source": [
    "#state/attributes/properties\n",
    "#behavior \n",
    "#identity\n"
   ]
  }
 ],
 "metadata": {
  "kernelspec": {
   "display_name": "Python 3",
   "language": "python",
   "name": "python3"
  },
  "language_info": {
   "codemirror_mode": {
    "name": "ipython",
    "version": 3
   },
   "file_extension": ".py",
   "mimetype": "text/x-python",
   "name": "python",
   "nbconvert_exporter": "python",
   "pygments_lexer": "ipython3",
   "version": "3.12.4"
  }
 },
 "nbformat": 4,
 "nbformat_minor": 2
}
